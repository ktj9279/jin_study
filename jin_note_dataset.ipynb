{
 "cells": [
  {
   "cell_type": "markdown",
   "metadata": {},
   "source": [
    "# Dataset\n",
    "---\n",
    "\n",
    "## Open Datasets\n",
    "---\n",
    "\n",
    "* Reference\n",
    "   * [Awesome Public Datasets](https://github.com/awesomedata/awesome-public-datasets)\n",
    "      * This list of a topic-centric public data sources in high quality. They are collected and tidied from blogs, answers, and user responses. Most of the data sets listed below are free, however, some are not. Other amazingly awesome lists can be found in sindresorhus's awesome list.\n",
    "   * [25 Open Datasets for Deep Learning Every Data Scientist Must Work With](https://www.analyticsvidhya.com/blog/2018/03/comprehensive-collection-deep-learning-datasets/)\n",
    "   * [The 50 Best Public Datasets for Machine Learning](https://medium.com/datadriveninvestor/the-50-best-public-datasets-for-machine-learning-d80e9f030279)\n",
    "   * [Google AI Datasets](https://ai.google/tools/datasets/)\n",
    "   * [Kaggle Datasets](https://www.kaggle.com/datasets)\n",
    "   \n",
    "\n",
    "### Images\n",
    "---\n",
    "\n",
    "* [COCO](http://cocodataset.org/#home)\n",
    "\n",
    "\n",
    "### Medical Images\n",
    "---\n",
    "\n",
    "* [PET/CT] [NaF Prostate](https://wiki.cancerimagingarchive.net/display/Public/NaF+Prostate#61764428347e4572b65479b3f43271f0)\n",
    "* [PET/CT and anatomical MRI] [Segmenting Soft Tissue Sarcomas](https://www.kaggle.com/4quant/soft-tissue-sarcoma)"
   ]
  }
 ],
 "metadata": {
  "kernelspec": {
   "display_name": "Python 3",
   "language": "python",
   "name": "python3"
  },
  "language_info": {
   "codemirror_mode": {
    "name": "ipython",
    "version": 3
   },
   "file_extension": ".py",
   "mimetype": "text/x-python",
   "name": "python",
   "nbconvert_exporter": "python",
   "pygments_lexer": "ipython3",
   "version": "3.6.8"
  }
 },
 "nbformat": 4,
 "nbformat_minor": 2
}
