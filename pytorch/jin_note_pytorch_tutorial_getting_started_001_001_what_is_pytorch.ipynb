{
 "cells": [
  {
   "cell_type": "markdown",
   "metadata": {},
   "source": [
    "# PyTorch Tutorial: GETTING STARTED\n",
    "---\n",
    "\n",
    "* **Reference**\n",
    "   * [PyTorch](https://pytorch.org/)\n",
    "   * [PyTorch Tutorials](https://pytorch.org/tutorials/)\n",
    "\n",
    "\n",
    "## DEEP LEARNING WITH PYTORCH: [A 60 MINUTE BLITZ](https://pytorch.org/tutorials/beginner/deep_learning_60min_blitz.html)\n",
    "---\n",
    "\n",
    "Goal of this tutorial:\n",
    "\n",
    "\n",
    "* Understand PyTorch’s Tensor library and neural networks at a high level.\n",
    "* Train a small neural network to classify images\n",
    "\n",
    "\n",
    "### [What is PyTorch?](https://pytorch.org/tutorials/beginner/blitz/tensor_tutorial.html#sphx-glr-beginner-blitz-tensor-tutorial-py)\n",
    "---\n",
    "\n",
    "It’s **a Python-based scientific computing package** targeted at two sets of audiences:\n",
    "\n",
    "\n",
    "* A replacement for NumPy to use the power of GPUs\n",
    "* a deep learning research platform that provides maximum flexibility and speed\n",
    "\n",
    "\n",
    "#### Tensors\n",
    "---\n",
    "\n",
    "**Tensors** are **similar to NumPy’s ndarrays**, with the addition being that Tensors can also be used **on a GPU to accelerate computing**."
   ]
  },
  {
   "cell_type": "code",
   "execution_count": 1,
   "metadata": {},
   "outputs": [
    {
     "name": "stdout",
     "output_type": "stream",
     "text": [
      "PyTorch:  0.4.1\n"
     ]
    }
   ],
   "source": [
    "from __future__ import print_function\n",
    "import torch\n",
    "print('PyTorch: ', torch.__version__)"
   ]
  },
  {
   "cell_type": "code",
   "execution_count": 2,
   "metadata": {},
   "outputs": [
    {
     "name": "stdout",
     "output_type": "stream",
     "text": [
      "torch.Size([5, 3]) torch.float32\n"
     ]
    },
    {
     "data": {
      "text/plain": [
       "tensor([[0.0000, 0.0000, 0.0000],\n",
       "        [0.0000, 0.0000, 0.0000],\n",
       "        [0.0000, 0.0000, 0.0000],\n",
       "        [0.0000, 0.0000, 0.0000],\n",
       "        [0.0000, 0.0000, 0.0000]])"
      ]
     },
     "execution_count": 2,
     "metadata": {},
     "output_type": "execute_result"
    }
   ],
   "source": [
    "# Returns a tensor filled with uninitialized data.\n",
    "x = torch.empty(5, 3)\n",
    "\n",
    "print(x.shape, x.dtype)\n",
    "x"
   ]
  },
  {
   "cell_type": "code",
   "execution_count": 3,
   "metadata": {},
   "outputs": [
    {
     "name": "stdout",
     "output_type": "stream",
     "text": [
      "torch.Size([5, 3]) torch.float32\n"
     ]
    },
    {
     "data": {
      "text/plain": [
       "tensor([[0.6632, 0.5151, 0.1383],\n",
       "        [0.9097, 0.2494, 0.2621],\n",
       "        [0.0003, 0.3631, 0.1426],\n",
       "        [0.9810, 0.7022, 0.5273],\n",
       "        [0.1438, 0.3596, 0.0224]])"
      ]
     },
     "execution_count": 3,
     "metadata": {},
     "output_type": "execute_result"
    }
   ],
   "source": [
    "\"\"\"\n",
    "Returns a tensor filled with random numbers from a uniform distribution\n",
    "on the interval :math:`[0, 1)`\n",
    "\"\"\"\n",
    "x = torch.rand(5, 3)\n",
    "\n",
    "print(x.shape, x.dtype)\n",
    "x"
   ]
  },
  {
   "cell_type": "code",
   "execution_count": 4,
   "metadata": {},
   "outputs": [
    {
     "name": "stdout",
     "output_type": "stream",
     "text": [
      "torch.Size([5, 3]) torch.float32\n"
     ]
    },
    {
     "data": {
      "text/plain": [
       "tensor([[0., 0., 0.],\n",
       "        [0., 0., 0.],\n",
       "        [0., 0., 0.],\n",
       "        [0., 0., 0.],\n",
       "        [0., 0., 0.]])"
      ]
     },
     "execution_count": 4,
     "metadata": {},
     "output_type": "execute_result"
    }
   ],
   "source": [
    "# Returns a tensor filled with the scalar value `0`.\n",
    "x = torch.zeros(5, 3)\n",
    "\n",
    "print(x.shape, x.dtype)\n",
    "x"
   ]
  },
  {
   "cell_type": "markdown",
   "metadata": {},
   "source": [
    "Data types\n",
    "\n",
    "\n",
    "* See [torch.Tensor](https://pytorch.org/docs/stable/tensors.html)"
   ]
  },
  {
   "cell_type": "code",
   "execution_count": 5,
   "metadata": {},
   "outputs": [
    {
     "name": "stdout",
     "output_type": "stream",
     "text": [
      "torch.Size([5, 3]) torch.int64\n"
     ]
    },
    {
     "data": {
      "text/plain": [
       "tensor([[0, 0, 0],\n",
       "        [0, 0, 0],\n",
       "        [0, 0, 0],\n",
       "        [0, 0, 0],\n",
       "        [0, 0, 0]])"
      ]
     },
     "execution_count": 5,
     "metadata": {},
     "output_type": "execute_result"
    }
   ],
   "source": [
    "# 64-bit integer (signed): torch.int64 or torch.long\n",
    "x = torch.zeros(5, 3, dtype=torch.long)\n",
    "\n",
    "print(x.shape, x.dtype)\n",
    "x"
   ]
  },
  {
   "cell_type": "markdown",
   "metadata": {},
   "source": [
    "Data로부터 tensor를 생성할 때 단 하나라도 float면 tensor의 dtype은 float가 된다.\n",
    "\n",
    "\n",
    "**Default float**: `torch.float32`"
   ]
  },
  {
   "cell_type": "code",
   "execution_count": 6,
   "metadata": {},
   "outputs": [
    {
     "name": "stdout",
     "output_type": "stream",
     "text": [
      "torch.Size([2, 2]) torch.float32\n"
     ]
    },
    {
     "data": {
      "text/plain": [
       "tensor([[1.0000, 2.0000],\n",
       "        [3.3333, 4.0000]])"
      ]
     },
     "execution_count": 6,
     "metadata": {},
     "output_type": "execute_result"
    }
   ],
   "source": [
    "# Constructs a tensor with :attr:`data`.\n",
    "x = torch.tensor([[1, 2], [3.3333, 4]])\n",
    "\n",
    "print(x.shape, x.dtype)\n",
    "x"
   ]
  },
  {
   "cell_type": "markdown",
   "metadata": {},
   "source": [
    "**Default integer**: `torch.int64`"
   ]
  },
  {
   "cell_type": "code",
   "execution_count": 7,
   "metadata": {},
   "outputs": [
    {
     "name": "stdout",
     "output_type": "stream",
     "text": [
      "torch.Size([2, 2]) torch.int64\n"
     ]
    },
    {
     "data": {
      "text/plain": [
       "tensor([[1, 2],\n",
       "        [3, 4]])"
      ]
     },
     "execution_count": 7,
     "metadata": {},
     "output_type": "execute_result"
    }
   ],
   "source": [
    "x = torch.tensor([[1, 2], [3, 4]])\n",
    "\n",
    "print(x.shape, x.dtype)\n",
    "x"
   ]
  },
  {
   "cell_type": "code",
   "execution_count": 8,
   "metadata": {},
   "outputs": [
    {
     "name": "stdout",
     "output_type": "stream",
     "text": [
      "torch.Size([5, 3]) torch.int64\n"
     ]
    },
    {
     "data": {
      "text/plain": [
       "tensor([[1, 1, 1],\n",
       "        [1, 1, 1],\n",
       "        [1, 1, 1],\n",
       "        [1, 1, 1],\n",
       "        [1, 1, 1]])"
      ]
     },
     "execution_count": 8,
     "metadata": {},
     "output_type": "execute_result"
    }
   ],
   "source": [
    "\"\"\"\n",
    "Returns a Tensor of size :attr:`size` filled with ``1``.\n",
    "By default, the returned Tensor has the same :class:`torch.dtype` and\n",
    ":class:`torch.device` as this tensor.\n",
    "\"\"\"      \n",
    "x = x.new_ones(5, 3)    # new_* methods take in sizes\n",
    "\n",
    "print(x.shape, x.dtype)\n",
    "x"
   ]
  },
  {
   "cell_type": "code",
   "execution_count": 9,
   "metadata": {},
   "outputs": [
    {
     "name": "stdout",
     "output_type": "stream",
     "text": [
      "torch.Size([5, 3]) torch.float64\n"
     ]
    },
    {
     "data": {
      "text/plain": [
       "tensor([[1., 1., 1.],\n",
       "        [1., 1., 1.],\n",
       "        [1., 1., 1.],\n",
       "        [1., 1., 1.],\n",
       "        [1., 1., 1.]], dtype=torch.float64)"
      ]
     },
     "execution_count": 9,
     "metadata": {},
     "output_type": "execute_result"
    }
   ],
   "source": [
    "x = x.new_ones(5, 3, dtype=torch.double)    # new_* methods take in sizes\n",
    "\n",
    "print(x.shape, x.dtype)\n",
    "x"
   ]
  },
  {
   "cell_type": "code",
   "execution_count": 10,
   "metadata": {},
   "outputs": [
    {
     "name": "stdout",
     "output_type": "stream",
     "text": [
      "torch.Size([5, 3]) torch.float64\n"
     ]
    },
    {
     "data": {
      "text/plain": [
       "tensor([[-0.2464,  0.5177, -0.1272],\n",
       "        [-1.8261, -0.1153, -0.5164],\n",
       "        [-0.5677,  1.4731,  0.1790],\n",
       "        [-0.7395,  0.2027,  0.1211],\n",
       "        [ 0.9709, -0.0798, -1.7891]], dtype=torch.float64)"
      ]
     },
     "execution_count": 10,
     "metadata": {},
     "output_type": "execute_result"
    }
   ],
   "source": [
    "\"\"\"\n",
    "Returns a tensor with the same size as :attr:`input` that is filled with\n",
    "random numbers from a normal distribution with mean 0 and variance 1.\n",
    "\"\"\"\n",
    "x = torch.randn_like(x)\n",
    "\n",
    "print(x.shape, x.dtype)\n",
    "x"
   ]
  },
  {
   "cell_type": "code",
   "execution_count": 11,
   "metadata": {},
   "outputs": [
    {
     "name": "stdout",
     "output_type": "stream",
     "text": [
      "torch.Size([5, 3]) torch.float32\n"
     ]
    },
    {
     "data": {
      "text/plain": [
       "tensor([[-1.1010, -0.5376,  1.4320],\n",
       "        [ 0.0491,  1.8868,  1.2266],\n",
       "        [-1.8792, -0.5001,  0.3091],\n",
       "        [ 0.6151,  1.2386,  0.1642],\n",
       "        [ 0.2327, -0.7458, -2.2121]])"
      ]
     },
     "execution_count": 11,
     "metadata": {},
     "output_type": "execute_result"
    }
   ],
   "source": [
    "x = torch.randn_like(x, dtype=torch.float32)    # override dtype!\n",
    "\n",
    "print(x.shape, x.dtype)\n",
    "x"
   ]
  },
  {
   "cell_type": "markdown",
   "metadata": {},
   "source": [
    "`x.size()`가 반환하는 `torch.Size`는 `x.shape`의 값(tensor의 size)과 동일하다.\n",
    "\n",
    "\n",
    "또한, `torch.Size`는 `tuple`의 subclass이다."
   ]
  },
  {
   "cell_type": "code",
   "execution_count": 12,
   "metadata": {},
   "outputs": [
    {
     "data": {
      "text/plain": [
       "torch.Size([5, 3])"
      ]
     },
     "execution_count": 12,
     "metadata": {},
     "output_type": "execute_result"
    }
   ],
   "source": [
    "\"\"\"\n",
    "Returns the size of the :attr:`self` tensor. The returned value is a subclass of\n",
    ":class:`tuple`.\n",
    "\"\"\"\n",
    "x.size()"
   ]
  },
  {
   "cell_type": "code",
   "execution_count": 13,
   "metadata": {},
   "outputs": [
    {
     "data": {
      "text/plain": [
       "torch.Size([5, 3])"
      ]
     },
     "execution_count": 13,
     "metadata": {},
     "output_type": "execute_result"
    }
   ],
   "source": [
    "x.shape"
   ]
  },
  {
   "cell_type": "markdown",
   "metadata": {},
   "source": [
    "#### Operations\n",
    "---"
   ]
  },
  {
   "cell_type": "code",
   "execution_count": 14,
   "metadata": {},
   "outputs": [],
   "source": [
    "x = torch.rand(5, 3)\n",
    "y = torch.rand(5, 3)"
   ]
  },
  {
   "cell_type": "code",
   "execution_count": 15,
   "metadata": {},
   "outputs": [
    {
     "data": {
      "text/plain": [
       "tensor([[1.4890, 1.5765, 1.2840],\n",
       "        [1.3383, 0.9743, 1.3433],\n",
       "        [0.8433, 0.2639, 1.2011],\n",
       "        [1.2305, 1.1998, 0.9459],\n",
       "        [0.8030, 1.1256, 1.1561]])"
      ]
     },
     "execution_count": 15,
     "metadata": {},
     "output_type": "execute_result"
    }
   ],
   "source": [
    "x + y"
   ]
  },
  {
   "cell_type": "code",
   "execution_count": 16,
   "metadata": {},
   "outputs": [
    {
     "data": {
      "text/plain": [
       "tensor([[1.4890, 1.5765, 1.2840],\n",
       "        [1.3383, 0.9743, 1.3433],\n",
       "        [0.8433, 0.2639, 1.2011],\n",
       "        [1.2305, 1.1998, 0.9459],\n",
       "        [0.8030, 1.1256, 1.1561]])"
      ]
     },
     "execution_count": 16,
     "metadata": {},
     "output_type": "execute_result"
    }
   ],
   "source": [
    "torch.add(x, y)"
   ]
  },
  {
   "cell_type": "markdown",
   "metadata": {},
   "source": [
    "Providing an output tensor as argument."
   ]
  },
  {
   "cell_type": "code",
   "execution_count": 17,
   "metadata": {},
   "outputs": [
    {
     "data": {
      "text/plain": [
       "tensor([[-0.2083, -0.3859,  0.4118],\n",
       "        [-0.3459,  0.0475,  0.3286],\n",
       "        [ 0.6924,  0.0781,  0.5829],\n",
       "        [ 0.3695, -0.0866,  0.3994],\n",
       "        [-0.7977,  0.5535, -0.4311]])"
      ]
     },
     "execution_count": 17,
     "metadata": {},
     "output_type": "execute_result"
    }
   ],
   "source": [
    "result = torch.empty(5, 3)\n",
    "\n",
    "torch.sub(x, y, out=result)"
   ]
  },
  {
   "cell_type": "markdown",
   "metadata": {},
   "source": [
    "Any operation that mutates a tensor **in-place** is **post-fixed with an `_`**. For example: `x.copy_(y)`, `x.t_()`, will change `x`."
   ]
  },
  {
   "cell_type": "code",
   "execution_count": 18,
   "metadata": {},
   "outputs": [
    {
     "data": {
      "text/plain": [
       "tensor([[0.6404, 0.5953, 0.8479],\n",
       "        [0.4962, 0.5109, 0.8360],\n",
       "        [0.7678, 0.1710, 0.8920],\n",
       "        [0.8000, 0.5566, 0.6727],\n",
       "        [0.0027, 0.8396, 0.3625]])"
      ]
     },
     "execution_count": 18,
     "metadata": {},
     "output_type": "execute_result"
    }
   ],
   "source": [
    "x"
   ]
  },
  {
   "cell_type": "code",
   "execution_count": 19,
   "metadata": {},
   "outputs": [
    {
     "data": {
      "text/plain": [
       "tensor([[1.4890, 1.5765, 1.2840],\n",
       "        [1.3383, 0.9743, 1.3433],\n",
       "        [0.8433, 0.2639, 1.2011],\n",
       "        [1.2305, 1.1998, 0.9459],\n",
       "        [0.8030, 1.1256, 1.1561]])"
      ]
     },
     "execution_count": 19,
     "metadata": {},
     "output_type": "execute_result"
    }
   ],
   "source": [
    "# In-place version of :meth:`~Tensor.add`\n",
    "x.add_(y)"
   ]
  },
  {
   "cell_type": "markdown",
   "metadata": {},
   "source": [
    "**Standard NumPy-like indexing** with all bells and whistles((특히 컴퓨터) 멋으로 덧붙이는 부가 기능)!\n",
    "\n",
    "\n",
    "**bells and whistles**: additional features or accessories which are nonessential but very attractive  \n",
    "이런 뜻이구나..."
   ]
  },
  {
   "cell_type": "code",
   "execution_count": 20,
   "metadata": {},
   "outputs": [
    {
     "data": {
      "text/plain": [
       "tensor([1.5765, 0.9743, 0.2639, 1.1998, 1.1256])"
      ]
     },
     "execution_count": 20,
     "metadata": {},
     "output_type": "execute_result"
    }
   ],
   "source": [
    "x[:, 1]"
   ]
  },
  {
   "cell_type": "code",
   "execution_count": 21,
   "metadata": {},
   "outputs": [
    {
     "data": {
      "text/plain": [
       "tensor([[1.5765, 1.2840],\n",
       "        [0.9743, 1.3433],\n",
       "        [0.2639, 1.2011],\n",
       "        [1.1998, 0.9459],\n",
       "        [1.1256, 1.1561]])"
      ]
     },
     "execution_count": 21,
     "metadata": {},
     "output_type": "execute_result"
    }
   ],
   "source": [
    "x[:, -2:]"
   ]
  },
  {
   "cell_type": "code",
   "execution_count": 22,
   "metadata": {},
   "outputs": [
    {
     "data": {
      "text/plain": [
       "tensor([[1.4890, 1.5765, 1.2840],\n",
       "        [1.3383, 0.9743, 1.3433],\n",
       "        [0.8433, 0.2639, 1.2011],\n",
       "        [1.2305, 1.1998, 0.9459],\n",
       "        [0.8030, 1.1256, 1.1561]])"
      ]
     },
     "execution_count": 22,
     "metadata": {},
     "output_type": "execute_result"
    }
   ],
   "source": [
    "x[...]"
   ]
  },
  {
   "cell_type": "markdown",
   "metadata": {},
   "source": [
    "`torch.view`: resize/reshape"
   ]
  },
  {
   "cell_type": "code",
   "execution_count": 23,
   "metadata": {},
   "outputs": [
    {
     "name": "stdout",
     "output_type": "stream",
     "text": [
      "torch.Size([4, 4]) torch.float32\n"
     ]
    },
    {
     "data": {
      "text/plain": [
       "tensor([[-0.4977, -0.2150, -0.7608, -1.9818],\n",
       "        [-0.7783,  0.2098, -0.8364, -0.6420],\n",
       "        [ 0.2867, -0.7077,  0.2941, -0.0177],\n",
       "        [ 1.8042, -0.4715,  2.5870,  0.7592]])"
      ]
     },
     "execution_count": 23,
     "metadata": {},
     "output_type": "execute_result"
    }
   ],
   "source": [
    "\"\"\"\n",
    "Returns a tensor filled with random numbers from a normal distribution\n",
    "with mean `0` and variance `1` (also called the standard normal\n",
    "distribution).\n",
    "\"\"\"\n",
    "x = torch.randn(4, 4)\n",
    "\n",
    "print(x.shape, x.dtype)\n",
    "x"
   ]
  },
  {
   "cell_type": "code",
   "execution_count": 24,
   "metadata": {},
   "outputs": [
    {
     "name": "stdout",
     "output_type": "stream",
     "text": [
      "torch.Size([16]) torch.float32\n"
     ]
    },
    {
     "data": {
      "text/plain": [
       "tensor([-0.4977, -0.2150, -0.7608, -1.9818, -0.7783,  0.2098, -0.8364, -0.6420,\n",
       "         0.2867, -0.7077,  0.2941, -0.0177,  1.8042, -0.4715,  2.5870,  0.7592])"
      ]
     },
     "execution_count": 24,
     "metadata": {},
     "output_type": "execute_result"
    }
   ],
   "source": [
    "\"\"\"\n",
    "Returns a new tensor with the same data as the :attr:`self` tensor but of a\n",
    "different size.\n",
    "\"\"\"\n",
    "y = x.view(16)\n",
    "\n",
    "print(y.shape, y.dtype)\n",
    "y"
   ]
  },
  {
   "cell_type": "code",
   "execution_count": 25,
   "metadata": {},
   "outputs": [
    {
     "name": "stdout",
     "output_type": "stream",
     "text": [
      "torch.Size([8, 2]) torch.float32\n"
     ]
    },
    {
     "data": {
      "text/plain": [
       "tensor([[-0.4977, -0.2150],\n",
       "        [-0.7608, -1.9818],\n",
       "        [-0.7783,  0.2098],\n",
       "        [-0.8364, -0.6420],\n",
       "        [ 0.2867, -0.7077],\n",
       "        [ 0.2941, -0.0177],\n",
       "        [ 1.8042, -0.4715],\n",
       "        [ 2.5870,  0.7592]])"
      ]
     },
     "execution_count": 25,
     "metadata": {},
     "output_type": "execute_result"
    }
   ],
   "source": [
    "z = x.view(-1, 2)    # the size -1 is inferred from other dimensions\n",
    "\n",
    "print(z.shape, z.dtype)\n",
    "z"
   ]
  },
  {
   "cell_type": "markdown",
   "metadata": {},
   "source": [
    "`.itme()`: get the value as a Python number from a tensor with one element"
   ]
  },
  {
   "cell_type": "code",
   "execution_count": 26,
   "metadata": {},
   "outputs": [
    {
     "data": {
      "text/plain": [
       "0.4219002425670624"
      ]
     },
     "execution_count": 26,
     "metadata": {},
     "output_type": "execute_result"
    }
   ],
   "source": [
    "x = torch.randn(1)\n",
    "\n",
    "\"\"\"\n",
    "Returns the value of this tensor as a standard Python number. This only works\n",
    "for tensors with one element.\n",
    "\"\"\"\n",
    "x.item()"
   ]
  },
  {
   "cell_type": "code",
   "execution_count": 27,
   "metadata": {},
   "outputs": [
    {
     "data": {
      "text/plain": [
       "[[0.2932477295398712, -1.2227989435195923],\n",
       " [-0.37361589074134827, 0.3924306035041809]]"
      ]
     },
     "execution_count": 27,
     "metadata": {},
     "output_type": "execute_result"
    }
   ],
   "source": [
    "x = torch.randn(2, 2)\n",
    "\n",
    "\"\"\"\n",
    "Returns the tensor as a (nested) list. For scalars, a standard\n",
    "Python number is returned, just like with :meth:`~Tensor.item`.\n",
    "\"\"\"\n",
    "x.tolist()"
   ]
  },
  {
   "cell_type": "markdown",
   "metadata": {},
   "source": [
    "#### NumPy Bridge\n",
    "---\n",
    "\n",
    "**Converting a Torch Tensor to a NumPy array and vice versa** is a breeze(식은 죽 먹기).\n",
    "\n",
    "\n",
    "The Torch Tensor and NumPy array will **share their underlying memory locations**, and **changing one will change the other**.\n",
    "\n",
    "\n",
    "All the Tensors on the CPU **except a CharTensor** support converting to NumPy and back."
   ]
  },
  {
   "cell_type": "code",
   "execution_count": 28,
   "metadata": {},
   "outputs": [
    {
     "name": "stdout",
     "output_type": "stream",
     "text": [
      "torch.Size([5]) torch.float32\n"
     ]
    },
    {
     "data": {
      "text/plain": [
       "tensor([1., 1., 1., 1., 1.])"
      ]
     },
     "execution_count": 28,
     "metadata": {},
     "output_type": "execute_result"
    }
   ],
   "source": [
    "a = torch.ones(5)\n",
    "\n",
    "print(a.shape, a.dtype)\n",
    "a"
   ]
  },
  {
   "cell_type": "code",
   "execution_count": 29,
   "metadata": {},
   "outputs": [
    {
     "name": "stdout",
     "output_type": "stream",
     "text": [
      "(5,) float32\n"
     ]
    },
    {
     "data": {
      "text/plain": [
       "array([1., 1., 1., 1., 1.], dtype=float32)"
      ]
     },
     "execution_count": 29,
     "metadata": {},
     "output_type": "execute_result"
    }
   ],
   "source": [
    "\"\"\"\n",
    "Returns :attr:`self` tensor as a NumPy :class:`ndarray`. This tensor and the\n",
    "returned :class:`ndarray` share the same underlying storage. Changes to\n",
    ":attr:`self` tensor will be reflected in the :class:`ndarray` and vice versa.\n",
    "\"\"\"\n",
    "b = a.numpy()\n",
    "\n",
    "print(b.shape, b.dtype)\n",
    "b"
   ]
  },
  {
   "cell_type": "markdown",
   "metadata": {},
   "source": [
    "`a`와 `b`는 동일한 기본 저장소를 공유하기 때문에 Torch tensor `a`의 값을 변경하면 NumPy array `b`의 값도 같이 변한다."
   ]
  },
  {
   "cell_type": "code",
   "execution_count": 30,
   "metadata": {},
   "outputs": [
    {
     "name": "stdout",
     "output_type": "stream",
     "text": [
      "tensor([2., 2., 2., 2., 2.])\n",
      "[2. 2. 2. 2. 2.]\n"
     ]
    }
   ],
   "source": [
    "a.add_(1)\n",
    "\n",
    "print(a)\n",
    "print(b)"
   ]
  },
  {
   "cell_type": "markdown",
   "metadata": {},
   "source": [
    "반대의 경우도 마찬가지!"
   ]
  },
  {
   "cell_type": "code",
   "execution_count": 31,
   "metadata": {},
   "outputs": [
    {
     "name": "stdout",
     "output_type": "stream",
     "text": [
      "[5. 5. 5. 5. 5.]\n",
      "tensor([5., 5., 5., 5., 5.], dtype=torch.float64)\n"
     ]
    }
   ],
   "source": [
    "import numpy as np\n",
    "\n",
    "a = np.ones(5)\n",
    "# Creates a :class:`Tensor` from a :class:`numpy.ndarray`.\n",
    "b = torch.from_numpy(a)\n",
    "np.add(a, 4, out=a)\n",
    "\n",
    "print(a)\n",
    "print(b)"
   ]
  },
  {
   "cell_type": "markdown",
   "metadata": {},
   "source": [
    "#### CUDA Tensors\n",
    "---\n",
    "\n",
    "Tensors can be moved onto any device using the `.to` method (or `CUDA device object`)."
   ]
  },
  {
   "cell_type": "code",
   "execution_count": 32,
   "metadata": {},
   "outputs": [
    {
     "name": "stdout",
     "output_type": "stream",
     "text": [
      "tensor([[1., 1.],\n",
      "        [1., 1.]])\n",
      "tensor([[0., 0.],\n",
      "        [0., 0.]], device='cuda:0')\n",
      "tensor([[1., 1.],\n",
      "        [1., 1.]], device='cuda:0')\n",
      "tensor([[2., 2.],\n",
      "        [2., 2.]], device='cuda:0')\n",
      "tensor([[2., 2.],\n",
      "        [2., 2.]], dtype=torch.float64)\n"
     ]
    }
   ],
   "source": [
    "# let us run this cell only if CUDA is available\n",
    "# We will use ``torch.device`` objects to move tensors in and out of GPU\n",
    "if torch.cuda.is_available():\n",
    "    device = torch.device(\"cuda\")          # a CUDA device object\n",
    "    x = torch.ones(2, 2)                   # on CPU\n",
    "    print(x)\n",
    "    y = torch.zeros(2, 2, device=device)    # directly create a tensor on GPU\n",
    "    print(y)\n",
    "    x = x.to(device)                       # or just use strings ``.to(\"cuda\")``\n",
    "    print(x)\n",
    "    z = x * 2 + y\n",
    "    print(z)\n",
    "    print(z.to(\"cpu\", torch.double))       # ``.to`` can also change dtype together!"
   ]
  }
 ],
 "metadata": {
  "kernelspec": {
   "display_name": "Python 3",
   "language": "python",
   "name": "python3"
  },
  "language_info": {
   "codemirror_mode": {
    "name": "ipython",
    "version": 3
   },
   "file_extension": ".py",
   "mimetype": "text/x-python",
   "name": "python",
   "nbconvert_exporter": "python",
   "pygments_lexer": "ipython3",
   "version": "3.6.6"
  }
 },
 "nbformat": 4,
 "nbformat_minor": 2
}
