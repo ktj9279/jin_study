{
 "cells": [
  {
   "cell_type": "markdown",
   "metadata": {},
   "source": [
    "# 6.2 Understanding Recurrent Neural Networks (RNN)\n",
    "---\n",
    "\n",
    "## Listing 6.19 Pseudocode RNN\n",
    "---"
   ]
  },
  {
   "cell_type": "markdown",
   "metadata": {},
   "source": [
    "```python\n",
    "# Initial state\n",
    "state_t = 0\n",
    "\n",
    "# Iterates over sequence elements\n",
    "for input_t in input_sequence:\n",
    "    # Inputs of RNN: input at t and state at t\n",
    "    output_t = rnn(input_t, state_t)\n",
    "    \n",
    "    # The previous output becomes the state for the next iteration.\n",
    "    state_t = output_t\n",
    "```"
   ]
  },
  {
   "cell_type": "markdown",
   "metadata": {},
   "source": [
    "## Listing 6.20 More detailed pseudocode for the RNN\n",
    "---"
   ]
  },
  {
   "cell_type": "markdown",
   "metadata": {},
   "source": [
    "```python\n",
    "# Initial state\n",
    "state_t = 0\n",
    "\n",
    "# Iterates over sequence elements\n",
    "for input_t in input_sequence:\n",
    "    # Inputs of RNN: input at t and state at t\n",
    "    output_t = activation(dot(W, input_t) + dot(U, state_t) + b)\n",
    "    \n",
    "    # The previous output becomes the state for the next iteration.\n",
    "    state_t = output_t\n",
    "```"
   ]
  },
  {
   "cell_type": "markdown",
   "metadata": {},
   "source": [
    "## Listing 6.21 Numpy implementation of a simple RNN\n",
    "---"
   ]
  },
  {
   "cell_type": "code",
   "execution_count": 1,
   "metadata": {},
   "outputs": [
    {
     "data": {
      "application/json": {
       "Software versions": [
        {
         "module": "Python",
         "version": "3.6.6 64bit [MSC v.1900 64 bit (AMD64)]"
        },
        {
         "module": "IPython",
         "version": "7.1.1"
        },
        {
         "module": "OS",
         "version": "Windows 10 10.0.17134 SP0"
        },
        {
         "module": "numpy",
         "version": "1.15.2"
        }
       ]
      },
      "text/html": [
       "<table><tr><th>Software</th><th>Version</th></tr><tr><td>Python</td><td>3.6.6 64bit [MSC v.1900 64 bit (AMD64)]</td></tr><tr><td>IPython</td><td>7.1.1</td></tr><tr><td>OS</td><td>Windows 10 10.0.17134 SP0</td></tr><tr><td>numpy</td><td>1.15.2</td></tr><tr><td colspan='2'>Thu Nov 08 17:31:54 2018 ¢¥eCN©öI¡¾©ö C¡ÍA¨ª¨öA</td></tr></table>"
      ],
      "text/latex": [
       "\\begin{tabular}{|l|l|}\\hline\n",
       "{\\bf Software} & {\\bf Version} \\\\ \\hline\\hline\n",
       "Python & 3.6.6 64bit [MSC v.1900 64 bit (AMD64)] \\\\ \\hline\n",
       "IPython & 7.1.1 \\\\ \\hline\n",
       "OS & Windows 10 10.0.17134 SP0 \\\\ \\hline\n",
       "numpy & 1.15.2 \\\\ \\hline\n",
       "\\hline \\multicolumn{2}{|l|}{Thu Nov 08 17:31:54 2018 ¢¥eCN©öI¡¾©ö C¡ÍA¨ª¨öA} \\\\ \\hline\n",
       "\\end{tabular}\n"
      ],
      "text/plain": [
       "Software versions\n",
       "Python 3.6.6 64bit [MSC v.1900 64 bit (AMD64)]\n",
       "IPython 7.1.1\n",
       "OS Windows 10 10.0.17134 SP0\n",
       "numpy 1.15.2\n",
       "Thu Nov 08 17:31:54 2018 ¢¥eCN©öI¡¾©ö C¡ÍA¨ª¨öA"
      ]
     },
     "execution_count": 1,
     "metadata": {},
     "output_type": "execute_result"
    }
   ],
   "source": [
    "import numpy as np\n",
    "\n",
    "%load_ext version_information\n",
    "%version_information numpy"
   ]
  },
  {
   "cell_type": "code",
   "execution_count": 2,
   "metadata": {},
   "outputs": [],
   "source": [
    "# #Timesteps in the input sequence\n",
    "timesteps = 100\n",
    "# Dimensionality of the input feature space\n",
    "input_features = 32\n",
    "# Dimensionality of the output feature space\n",
    "output_features = 64"
   ]
  },
  {
   "cell_type": "code",
   "execution_count": 3,
   "metadata": {},
   "outputs": [
    {
     "name": "stdout",
     "output_type": "stream",
     "text": [
      "float64 (100, 32)\n"
     ]
    }
   ],
   "source": [
    "# Input data\n",
    "inputs = np.random.random((timesteps, input_features))\n",
    "\n",
    "print(inputs.dtype, inputs.shape)"
   ]
  },
  {
   "cell_type": "code",
   "execution_count": 4,
   "metadata": {},
   "outputs": [
    {
     "name": "stdout",
     "output_type": "stream",
     "text": [
      "float64 (64,)\n"
     ]
    }
   ],
   "source": [
    "# Initial state\n",
    "state_t = np.zeros((output_features,))\n",
    "\n",
    "print(state_t.dtype, state_t.shape)"
   ]
  },
  {
   "cell_type": "code",
   "execution_count": 5,
   "metadata": {},
   "outputs": [
    {
     "name": "stdout",
     "output_type": "stream",
     "text": [
      "W (for input_t):  float64 (64, 32)\n",
      "U (for state_t):  float64 (64, 64)\n",
      "b (bias):  float64 (64,)\n"
     ]
    }
   ],
   "source": [
    "# Weight matrices\n",
    "W = np.random.random((output_features, input_features))\n",
    "U = np.random.random((output_features, output_features))\n",
    "b = np.random.random((output_features,))\n",
    "print('W (for input_t): ', W.dtype, W.shape)\n",
    "print('U (for state_t): ', U.dtype, U.shape)\n",
    "print('b (bias): ', b.dtype, b.shape)"
   ]
  },
  {
   "cell_type": "code",
   "execution_count": 6,
   "metadata": {},
   "outputs": [],
   "source": [
    "successive_outputs = []\n",
    "\n",
    "for input_t in inputs:\n",
    "    # Combines the input with the current state (the previous output) to obtain the current output\n",
    "    output_t = np.tanh(np.dot(W, input_t) + np.dot(U, state_t) + b)\n",
    "    \n",
    "    successive_outputs.append(output_t)\n",
    "    \n",
    "    # Updates the state of the network for the next timestep\n",
    "    state_t = output_t"
   ]
  },
  {
   "cell_type": "code",
   "execution_count": 7,
   "metadata": {},
   "outputs": [
    {
     "name": "stdout",
     "output_type": "stream",
     "text": [
      "100\n"
     ]
    },
    {
     "data": {
      "text/plain": [
       "array([0.99999999, 1.        , 1.        , 0.99999999, 1.        ,\n",
       "       1.        , 1.        , 0.99999997, 0.99999991, 0.99999999,\n",
       "       0.99999998, 1.        , 1.        , 1.        , 0.99999996,\n",
       "       1.        , 0.99999999, 1.        , 1.        , 1.        ,\n",
       "       1.        , 0.99999999, 0.99999999, 1.        , 1.        ,\n",
       "       1.        , 1.        , 0.99999999, 0.99999997, 1.        ,\n",
       "       0.99999996, 1.        , 1.        , 1.        , 1.        ,\n",
       "       1.        , 1.        , 1.        , 1.        , 1.        ,\n",
       "       1.        , 0.99999999, 1.        , 0.99999993, 1.        ,\n",
       "       1.        , 0.99999999, 0.99999997, 1.        , 0.99999998,\n",
       "       0.9999999 , 1.        , 0.99999999, 0.99999999, 1.        ,\n",
       "       0.99999998, 1.        , 1.        , 1.        , 1.        ,\n",
       "       0.99999995, 0.99999998, 0.99999995, 1.        ])"
      ]
     },
     "execution_count": 7,
     "metadata": {},
     "output_type": "execute_result"
    }
   ],
   "source": [
    "print(len(successive_outputs))\n",
    "successive_outputs[0]"
   ]
  },
  {
   "cell_type": "code",
   "execution_count": 8,
   "metadata": {},
   "outputs": [
    {
     "name": "stdout",
     "output_type": "stream",
     "text": [
      "float64 (100, 64)\n"
     ]
    },
    {
     "data": {
      "text/plain": [
       "array([0.99999999, 1.        , 1.        , 0.99999999, 1.        ,\n",
       "       1.        , 1.        , 0.99999997, 0.99999991, 0.99999999,\n",
       "       0.99999998, 1.        , 1.        , 1.        , 0.99999996,\n",
       "       1.        , 0.99999999, 1.        , 1.        , 1.        ,\n",
       "       1.        , 0.99999999, 0.99999999, 1.        , 1.        ,\n",
       "       1.        , 1.        , 0.99999999, 0.99999997, 1.        ,\n",
       "       0.99999996, 1.        , 1.        , 1.        , 1.        ,\n",
       "       1.        , 1.        , 1.        , 1.        , 1.        ,\n",
       "       1.        , 0.99999999, 1.        , 0.99999993, 1.        ,\n",
       "       1.        , 0.99999999, 0.99999997, 1.        , 0.99999998,\n",
       "       0.9999999 , 1.        , 0.99999999, 0.99999999, 1.        ,\n",
       "       0.99999998, 1.        , 1.        , 1.        , 1.        ,\n",
       "       0.99999995, 0.99999998, 0.99999995, 1.        ])"
      ]
     },
     "execution_count": 8,
     "metadata": {},
     "output_type": "execute_result"
    }
   ],
   "source": [
    "# The final output is a 2D tensor of shape (timesteps, output_features).\n",
    "final_output_sequence = np.asarray(successive_outputs)\n",
    "\n",
    "print(final_output_sequence.dtype, final_output_sequence.shape)\n",
    "final_output_sequence[0]"
   ]
  },
  {
   "cell_type": "markdown",
   "metadata": {},
   "source": [
    "## Listing 6.22 Preparing the IMDB data\n",
    "---"
   ]
  },
  {
   "cell_type": "code",
   "execution_count": 9,
   "metadata": {},
   "outputs": [
    {
     "name": "stderr",
     "output_type": "stream",
     "text": [
      "Using TensorFlow backend.\n"
     ]
    },
    {
     "data": {
      "application/json": {
       "Software versions": [
        {
         "module": "Python",
         "version": "3.6.6 64bit [MSC v.1900 64 bit (AMD64)]"
        },
        {
         "module": "IPython",
         "version": "7.1.1"
        },
        {
         "module": "OS",
         "version": "Windows 10 10.0.17134 SP0"
        },
        {
         "module": "keras",
         "version": "2.2.4"
        }
       ]
      },
      "text/html": [
       "<table><tr><th>Software</th><th>Version</th></tr><tr><td>Python</td><td>3.6.6 64bit [MSC v.1900 64 bit (AMD64)]</td></tr><tr><td>IPython</td><td>7.1.1</td></tr><tr><td>OS</td><td>Windows 10 10.0.17134 SP0</td></tr><tr><td>keras</td><td>2.2.4</td></tr><tr><td colspan='2'>Thu Nov 08 17:31:55 2018 ¢¥eCN©öI¡¾©ö C¡ÍA¨ª¨öA</td></tr></table>"
      ],
      "text/latex": [
       "\\begin{tabular}{|l|l|}\\hline\n",
       "{\\bf Software} & {\\bf Version} \\\\ \\hline\\hline\n",
       "Python & 3.6.6 64bit [MSC v.1900 64 bit (AMD64)] \\\\ \\hline\n",
       "IPython & 7.1.1 \\\\ \\hline\n",
       "OS & Windows 10 10.0.17134 SP0 \\\\ \\hline\n",
       "keras & 2.2.4 \\\\ \\hline\n",
       "\\hline \\multicolumn{2}{|l|}{Thu Nov 08 17:31:55 2018 ¢¥eCN©öI¡¾©ö C¡ÍA¨ª¨öA} \\\\ \\hline\n",
       "\\end{tabular}\n"
      ],
      "text/plain": [
       "Software versions\n",
       "Python 3.6.6 64bit [MSC v.1900 64 bit (AMD64)]\n",
       "IPython 7.1.1\n",
       "OS Windows 10 10.0.17134 SP0\n",
       "keras 2.2.4\n",
       "Thu Nov 08 17:31:55 2018 ¢¥eCN©öI¡¾©ö C¡ÍA¨ª¨öA"
      ]
     },
     "execution_count": 9,
     "metadata": {},
     "output_type": "execute_result"
    }
   ],
   "source": [
    "from keras.models import Sequential\n",
    "from keras.layers import Embedding, SimpleRNN\n",
    "\n",
    "%reload_ext version_information\n",
    "%version_information keras"
   ]
  },
  {
   "cell_type": "markdown",
   "metadata": {},
   "source": [
    "### A recurrent layer in Keras\n",
    "---\n",
    "\n",
    "Returns only the output at the last timestep.\n",
    "* Output shape: (batch_size, output_features)"
   ]
  },
  {
   "cell_type": "code",
   "execution_count": 10,
   "metadata": {},
   "outputs": [
    {
     "name": "stdout",
     "output_type": "stream",
     "text": [
      "_________________________________________________________________\n",
      "Layer (type)                 Output Shape              Param #   \n",
      "=================================================================\n",
      "embedding_1 (Embedding)      (None, None, 32)          320000    \n",
      "_________________________________________________________________\n",
      "simple_rnn_1 (SimpleRNN)     (None, 32)                2080      \n",
      "=================================================================\n",
      "Total params: 322,080\n",
      "Trainable params: 322,080\n",
      "Non-trainable params: 0\n",
      "_________________________________________________________________\n"
     ]
    }
   ],
   "source": [
    "model = Sequential()\n",
    "model.add(Embedding(10000, 32))\n",
    "model.add(SimpleRNN(32))    # return_sequences=False (default)\n",
    "\n",
    "model.summary()"
   ]
  },
  {
   "cell_type": "markdown",
   "metadata": {},
   "source": [
    "Returns the full state sequence.\n",
    "* Output shape: (batch_size, timesteps, output_features)"
   ]
  },
  {
   "cell_type": "code",
   "execution_count": 11,
   "metadata": {},
   "outputs": [
    {
     "name": "stdout",
     "output_type": "stream",
     "text": [
      "_________________________________________________________________\n",
      "Layer (type)                 Output Shape              Param #   \n",
      "=================================================================\n",
      "embedding_2 (Embedding)      (None, None, 32)          320000    \n",
      "_________________________________________________________________\n",
      "simple_rnn_2 (SimpleRNN)     (None, None, 32)          2080      \n",
      "=================================================================\n",
      "Total params: 322,080\n",
      "Trainable params: 322,080\n",
      "Non-trainable params: 0\n",
      "_________________________________________________________________\n"
     ]
    }
   ],
   "source": [
    "model = Sequential()\n",
    "model.add(Embedding(10000, 32))\n",
    "model.add(SimpleRNN(32, return_sequences=True))\n",
    "\n",
    "model.summary()"
   ]
  },
  {
   "cell_type": "markdown",
   "metadata": {},
   "source": [
    "Stacked several recurrent layers."
   ]
  },
  {
   "cell_type": "code",
   "execution_count": 12,
   "metadata": {},
   "outputs": [
    {
     "name": "stdout",
     "output_type": "stream",
     "text": [
      "_________________________________________________________________\n",
      "Layer (type)                 Output Shape              Param #   \n",
      "=================================================================\n",
      "embedding_3 (Embedding)      (None, None, 32)          320000    \n",
      "_________________________________________________________________\n",
      "simple_rnn_3 (SimpleRNN)     (None, None, 32)          2080      \n",
      "_________________________________________________________________\n",
      "simple_rnn_4 (SimpleRNN)     (None, None, 32)          2080      \n",
      "_________________________________________________________________\n",
      "simple_rnn_5 (SimpleRNN)     (None, None, 32)          2080      \n",
      "_________________________________________________________________\n",
      "simple_rnn_6 (SimpleRNN)     (None, 32)                2080      \n",
      "=================================================================\n",
      "Total params: 328,320\n",
      "Trainable params: 328,320\n",
      "Non-trainable params: 0\n",
      "_________________________________________________________________\n"
     ]
    }
   ],
   "source": [
    "model = Sequential()\n",
    "model.add(Embedding(10000, 32))\n",
    "model.add(SimpleRNN(32, return_sequences=True))\n",
    "model.add(SimpleRNN(32, return_sequences=True))\n",
    "model.add(SimpleRNN(32, return_sequences=True))\n",
    "model.add(SimpleRNN(32))\n",
    "\n",
    "model.summary()"
   ]
  },
  {
   "cell_type": "markdown",
   "metadata": {},
   "source": [
    "### Preprocessing IMDB data"
   ]
  },
  {
   "cell_type": "code",
   "execution_count": 13,
   "metadata": {},
   "outputs": [
    {
     "data": {
      "application/json": {
       "Software versions": [
        {
         "module": "Python",
         "version": "3.6.6 64bit [MSC v.1900 64 bit (AMD64)]"
        },
        {
         "module": "IPython",
         "version": "7.1.1"
        },
        {
         "module": "OS",
         "version": "Windows 10 10.0.17134 SP0"
        },
        {
         "module": "keras",
         "version": "2.2.4"
        }
       ]
      },
      "text/html": [
       "<table><tr><th>Software</th><th>Version</th></tr><tr><td>Python</td><td>3.6.6 64bit [MSC v.1900 64 bit (AMD64)]</td></tr><tr><td>IPython</td><td>7.1.1</td></tr><tr><td>OS</td><td>Windows 10 10.0.17134 SP0</td></tr><tr><td>keras</td><td>2.2.4</td></tr><tr><td colspan='2'>Thu Nov 08 17:31:56 2018 ¢¥eCN©öI¡¾©ö C¡ÍA¨ª¨öA</td></tr></table>"
      ],
      "text/latex": [
       "\\begin{tabular}{|l|l|}\\hline\n",
       "{\\bf Software} & {\\bf Version} \\\\ \\hline\\hline\n",
       "Python & 3.6.6 64bit [MSC v.1900 64 bit (AMD64)] \\\\ \\hline\n",
       "IPython & 7.1.1 \\\\ \\hline\n",
       "OS & Windows 10 10.0.17134 SP0 \\\\ \\hline\n",
       "keras & 2.2.4 \\\\ \\hline\n",
       "\\hline \\multicolumn{2}{|l|}{Thu Nov 08 17:31:56 2018 ¢¥eCN©öI¡¾©ö C¡ÍA¨ª¨öA} \\\\ \\hline\n",
       "\\end{tabular}\n"
      ],
      "text/plain": [
       "Software versions\n",
       "Python 3.6.6 64bit [MSC v.1900 64 bit (AMD64)]\n",
       "IPython 7.1.1\n",
       "OS Windows 10 10.0.17134 SP0\n",
       "keras 2.2.4\n",
       "Thu Nov 08 17:31:56 2018 ¢¥eCN©öI¡¾©ö C¡ÍA¨ª¨öA"
      ]
     },
     "execution_count": 13,
     "metadata": {},
     "output_type": "execute_result"
    }
   ],
   "source": [
    "from keras.datasets import imdb\n",
    "from keras.preprocessing import sequence\n",
    "\n",
    "%reload_ext version_information\n",
    "%version_information keras"
   ]
  },
  {
   "cell_type": "code",
   "execution_count": 14,
   "metadata": {},
   "outputs": [],
   "source": [
    "max_features = 10000\n",
    "max_len = 500\n",
    "batch_size = 32"
   ]
  },
  {
   "cell_type": "code",
   "execution_count": 15,
   "metadata": {},
   "outputs": [
    {
     "name": "stdout",
     "output_type": "stream",
     "text": [
      "Loading data...\n",
      "25000 train sequences\n",
      "25000 test sequences\n"
     ]
    }
   ],
   "source": [
    "print('Loading data...')\n",
    "(input_train, y_train), (input_test, y_test) = imdb.load_data(num_words=max_features)\n",
    "\n",
    "print(len(input_train), 'train sequences')\n",
    "print(len(input_test), 'test sequences')"
   ]
  },
  {
   "cell_type": "code",
   "execution_count": 16,
   "metadata": {},
   "outputs": [
    {
     "name": "stdout",
     "output_type": "stream",
     "text": [
      "Pad sequences (samples x time)\n",
      "input_train shape: (25000, 500)\n",
      "input_test shape: (25000, 500)\n"
     ]
    }
   ],
   "source": [
    "print('Pad sequences (samples x time)')\n",
    "input_train = sequence.pad_sequences(input_train, maxlen=max_len)\n",
    "input_test = sequence.pad_sequences(input_test, maxlen=max_len)\n",
    "\n",
    "print('input_train shape:', input_train.shape)\n",
    "print('input_test shape:', input_test.shape)"
   ]
  },
  {
   "cell_type": "markdown",
   "metadata": {},
   "source": [
    "## Listing 6.23 Training the model with Embedding and SimpleRNN layers\n",
    "---"
   ]
  },
  {
   "cell_type": "code",
   "execution_count": 17,
   "metadata": {},
   "outputs": [
    {
     "data": {
      "application/json": {
       "Software versions": [
        {
         "module": "Python",
         "version": "3.6.6 64bit [MSC v.1900 64 bit (AMD64)]"
        },
        {
         "module": "IPython",
         "version": "7.1.1"
        },
        {
         "module": "OS",
         "version": "Windows 10 10.0.17134 SP0"
        },
        {
         "module": "keras",
         "version": "2.2.4"
        }
       ]
      },
      "text/html": [
       "<table><tr><th>Software</th><th>Version</th></tr><tr><td>Python</td><td>3.6.6 64bit [MSC v.1900 64 bit (AMD64)]</td></tr><tr><td>IPython</td><td>7.1.1</td></tr><tr><td>OS</td><td>Windows 10 10.0.17134 SP0</td></tr><tr><td>keras</td><td>2.2.4</td></tr><tr><td colspan='2'>Thu Nov 08 17:31:59 2018 ¢¥eCN©öI¡¾©ö C¡ÍA¨ª¨öA</td></tr></table>"
      ],
      "text/latex": [
       "\\begin{tabular}{|l|l|}\\hline\n",
       "{\\bf Software} & {\\bf Version} \\\\ \\hline\\hline\n",
       "Python & 3.6.6 64bit [MSC v.1900 64 bit (AMD64)] \\\\ \\hline\n",
       "IPython & 7.1.1 \\\\ \\hline\n",
       "OS & Windows 10 10.0.17134 SP0 \\\\ \\hline\n",
       "keras & 2.2.4 \\\\ \\hline\n",
       "\\hline \\multicolumn{2}{|l|}{Thu Nov 08 17:31:59 2018 ¢¥eCN©öI¡¾©ö C¡ÍA¨ª¨öA} \\\\ \\hline\n",
       "\\end{tabular}\n"
      ],
      "text/plain": [
       "Software versions\n",
       "Python 3.6.6 64bit [MSC v.1900 64 bit (AMD64)]\n",
       "IPython 7.1.1\n",
       "OS Windows 10 10.0.17134 SP0\n",
       "keras 2.2.4\n",
       "Thu Nov 08 17:31:59 2018 ¢¥eCN©öI¡¾©ö C¡ÍA¨ª¨öA"
      ]
     },
     "execution_count": 17,
     "metadata": {},
     "output_type": "execute_result"
    }
   ],
   "source": [
    "from keras.layers import Dense, Embedding, SimpleRNN\n",
    "\n",
    "%reload_ext version_information\n",
    "%version_information keras"
   ]
  },
  {
   "cell_type": "code",
   "execution_count": 18,
   "metadata": {},
   "outputs": [
    {
     "name": "stdout",
     "output_type": "stream",
     "text": [
      "_________________________________________________________________\n",
      "Layer (type)                 Output Shape              Param #   \n",
      "=================================================================\n",
      "embedding_4 (Embedding)      (None, None, 32)          320000    \n",
      "_________________________________________________________________\n",
      "simple_rnn_7 (SimpleRNN)     (None, 32)                2080      \n",
      "_________________________________________________________________\n",
      "dense_1 (Dense)              (None, 1)                 33        \n",
      "=================================================================\n",
      "Total params: 322,113\n",
      "Trainable params: 322,113\n",
      "Non-trainable params: 0\n",
      "_________________________________________________________________\n"
     ]
    }
   ],
   "source": [
    "model = Sequential()\n",
    "model.add(Embedding(max_features, 32))\n",
    "model.add(SimpleRNN(32))\n",
    "model.add(Dense(1, activation='sigmoid'))\n",
    "\n",
    "model.summary()"
   ]
  },
  {
   "cell_type": "code",
   "execution_count": 19,
   "metadata": {},
   "outputs": [
    {
     "name": "stdout",
     "output_type": "stream",
     "text": [
      "Train on 20000 samples, validate on 5000 samples\n",
      "Epoch 1/10\n",
      "20000/20000 [==============================] - 11s 556us/step - loss: 0.6537 - acc: 0.5998 - val_loss: 0.5667 - val_acc: 0.7086\n",
      "Epoch 2/10\n",
      "20000/20000 [==============================] - 11s 540us/step - loss: 0.4193 - acc: 0.8177 - val_loss: 0.4351 - val_acc: 0.8050\n",
      "Epoch 3/10\n",
      "20000/20000 [==============================] - 11s 540us/step - loss: 0.2971 - acc: 0.8815 - val_loss: 0.3573 - val_acc: 0.8596\n",
      "Epoch 4/10\n",
      "20000/20000 [==============================] - 11s 553us/step - loss: 0.2264 - acc: 0.9109 - val_loss: 0.3923 - val_acc: 0.8286\n",
      "Epoch 5/10\n",
      "20000/20000 [==============================] - 11s 546us/step - loss: 0.1583 - acc: 0.9435 - val_loss: 0.5000 - val_acc: 0.8314\n",
      "Epoch 6/10\n",
      "20000/20000 [==============================] - 11s 541us/step - loss: 0.1081 - acc: 0.9639 - val_loss: 0.4243 - val_acc: 0.8570\n",
      "Epoch 7/10\n",
      "20000/20000 [==============================] - 11s 555us/step - loss: 0.0731 - acc: 0.9775 - val_loss: 0.5431 - val_acc: 0.8000\n",
      "Epoch 8/10\n",
      "20000/20000 [==============================] - 11s 547us/step - loss: 0.0434 - acc: 0.9870 - val_loss: 0.5147 - val_acc: 0.8244\n",
      "Epoch 9/10\n",
      "20000/20000 [==============================] - 11s 546us/step - loss: 0.0271 - acc: 0.9927 - val_loss: 0.5777 - val_acc: 0.8234\n",
      "Epoch 10/10\n",
      "20000/20000 [==============================] - 11s 539us/step - loss: 0.0263 - acc: 0.9926 - val_loss: 0.6380 - val_acc: 0.8034\n"
     ]
    }
   ],
   "source": [
    "model.compile(optimizer='rmsprop', loss='binary_crossentropy', metrics=['acc'])\n",
    "\n",
    "history = model.fit(input_train, y_train,\n",
    "                    epochs=10,\n",
    "                    batch_size=128,\n",
    "                    validation_split=0.2)"
   ]
  },
  {
   "cell_type": "markdown",
   "metadata": {},
   "source": [
    "## Listing 6.24 Plotting results\n",
    "---"
   ]
  },
  {
   "cell_type": "code",
   "execution_count": 20,
   "metadata": {},
   "outputs": [
    {
     "data": {
      "application/json": {
       "Software versions": [
        {
         "module": "Python",
         "version": "3.6.6 64bit [MSC v.1900 64 bit (AMD64)]"
        },
        {
         "module": "IPython",
         "version": "7.1.1"
        },
        {
         "module": "OS",
         "version": "Windows 10 10.0.17134 SP0"
        },
        {
         "module": "matplotlib",
         "version": "2.2.2"
        }
       ]
      },
      "text/html": [
       "<table><tr><th>Software</th><th>Version</th></tr><tr><td>Python</td><td>3.6.6 64bit [MSC v.1900 64 bit (AMD64)]</td></tr><tr><td>IPython</td><td>7.1.1</td></tr><tr><td>OS</td><td>Windows 10 10.0.17134 SP0</td></tr><tr><td>matplotlib</td><td>2.2.2</td></tr><tr><td colspan='2'>Thu Nov 08 17:33:49 2018 ¢¥eCN©öI¡¾©ö C¡ÍA¨ª¨öA</td></tr></table>"
      ],
      "text/latex": [
       "\\begin{tabular}{|l|l|}\\hline\n",
       "{\\bf Software} & {\\bf Version} \\\\ \\hline\\hline\n",
       "Python & 3.6.6 64bit [MSC v.1900 64 bit (AMD64)] \\\\ \\hline\n",
       "IPython & 7.1.1 \\\\ \\hline\n",
       "OS & Windows 10 10.0.17134 SP0 \\\\ \\hline\n",
       "matplotlib & 2.2.2 \\\\ \\hline\n",
       "\\hline \\multicolumn{2}{|l|}{Thu Nov 08 17:33:49 2018 ¢¥eCN©öI¡¾©ö C¡ÍA¨ª¨öA} \\\\ \\hline\n",
       "\\end{tabular}\n"
      ],
      "text/plain": [
       "Software versions\n",
       "Python 3.6.6 64bit [MSC v.1900 64 bit (AMD64)]\n",
       "IPython 7.1.1\n",
       "OS Windows 10 10.0.17134 SP0\n",
       "matplotlib 2.2.2\n",
       "Thu Nov 08 17:33:49 2018 ¢¥eCN©öI¡¾©ö C¡ÍA¨ª¨öA"
      ]
     },
     "execution_count": 20,
     "metadata": {},
     "output_type": "execute_result"
    }
   ],
   "source": [
    "import matplotlib.pyplot as plt\n",
    "\n",
    "%reload_ext version_information\n",
    "%version_information matplotlib"
   ]
  },
  {
   "cell_type": "code",
   "execution_count": 21,
   "metadata": {},
   "outputs": [
    {
     "data": {
      "image/png": "[encoded data removed]",
      "text/plain": [
       "<Figure size 432x288 with 1 Axes>"
      ]
     },
     "metadata": {},
     "output_type": "display_data"
    },
    {
     "data": {
      "image/png": "[encoded data removed]",
      "text/plain": [
       "<Figure size 432x288 with 1 Axes>"
      ]
     },
     "metadata": {},
     "output_type": "display_data"
    }
   ],
   "source": [
    "acc = history.history['acc']\n",
    "val_acc = history.history['val_acc']\n",
    "loss = history.history['loss']\n",
    "val_loss = history.history['val_loss']\n",
    "epochs = range(1, len(acc) + 1)\n",
    "\n",
    "plt.figure()\n",
    "plt.plot(epochs, acc, 'bo', label='Training acc')\n",
    "plt.plot(epochs, val_acc, 'b', label='Validation acc')\n",
    "plt.title('Training and validation accuracy')\n",
    "plt.legend()\n",
    "\n",
    "plt.figure()\n",
    "plt.plot(epochs, loss, 'bo', label='Training loss')\n",
    "plt.plot(epochs, val_loss, 'b', label='Validation loss')\n",
    "plt.title('Training and validation loss')\n",
    "plt.legend()\n",
    "\n",
    "plt.show()"
   ]
  },
  {
   "cell_type": "markdown",
   "metadata": {},
   "source": [
    "Part of the problem is that your inputs **only consider the first 500 words**, rather than full sequences—hence, the RNN has access to less information than the earlier baseline model. The remainder of the problem is that **SimpleRNN isn’t good at processing long sequences**, such as text."
   ]
  },
  {
   "cell_type": "markdown",
   "metadata": {},
   "source": [
    "## Listing 6.25 Pseudocode details of the LSTM architecture (1/2)\n",
    "---\n",
    "\n",
    "All three have the form of a SimpleRNN cell:\n",
    "\n",
    "```\n",
    "y = activation(dot(state_t, U) + dot(input_t, W) + b)\n",
    "```\n",
    "\n",
    "\n",
    "But all three transformations have their own weight matrices, which you’ll index with the letters i, f, and k."
   ]
  },
  {
   "cell_type": "markdown",
   "metadata": {},
   "source": [
    "```python\n",
    "output_t = activation(dot(state_t, Uo) + dot(input_t, Wo) + dot(C_t, Vo) + bo)\n",
    "\n",
    "i_t = activation(dot(state_t, Ui) + dot(input_t, Wi) + bi)\n",
    "f_t = activation(dot(state_t, Uf) + dot(input_t, Wf) + bf)\n",
    "k_t = activation(dot(state_t, Uk) + dot(input_t, Wk) + bk)\n",
    "```"
   ]
  },
  {
   "cell_type": "markdown",
   "metadata": {},
   "source": [
    "## Listing 6.26 Pseudocode details of the LSTM architecture (2/2)\n",
    "---\n",
    "\n",
    "You obtain the new carry state (the next c_t) by combining i_t, f_t, and k_t."
   ]
  },
  {
   "cell_type": "markdown",
   "metadata": {},
   "source": [
    "```python\n",
    "c_t+1 = i_t * k_t + c_t * f_t\n",
    "```"
   ]
  },
  {
   "cell_type": "markdown",
   "metadata": {},
   "source": [
    "## Listing 6.27 Using the LSTM layer in Keras\n",
    "---"
   ]
  },
  {
   "cell_type": "code",
   "execution_count": 22,
   "metadata": {},
   "outputs": [
    {
     "data": {
      "application/json": {
       "Software versions": [
        {
         "module": "Python",
         "version": "3.6.6 64bit [MSC v.1900 64 bit (AMD64)]"
        },
        {
         "module": "IPython",
         "version": "7.1.1"
        },
        {
         "module": "OS",
         "version": "Windows 10 10.0.17134 SP0"
        },
        {
         "module": "keras",
         "version": "2.2.4"
        }
       ]
      },
      "text/html": [
       "<table><tr><th>Software</th><th>Version</th></tr><tr><td>Python</td><td>3.6.6 64bit [MSC v.1900 64 bit (AMD64)]</td></tr><tr><td>IPython</td><td>7.1.1</td></tr><tr><td>OS</td><td>Windows 10 10.0.17134 SP0</td></tr><tr><td>keras</td><td>2.2.4</td></tr><tr><td colspan='2'>Thu Nov 08 17:33:49 2018 ¢¥eCN©öI¡¾©ö C¡ÍA¨ª¨öA</td></tr></table>"
      ],
      "text/latex": [
       "\\begin{tabular}{|l|l|}\\hline\n",
       "{\\bf Software} & {\\bf Version} \\\\ \\hline\\hline\n",
       "Python & 3.6.6 64bit [MSC v.1900 64 bit (AMD64)] \\\\ \\hline\n",
       "IPython & 7.1.1 \\\\ \\hline\n",
       "OS & Windows 10 10.0.17134 SP0 \\\\ \\hline\n",
       "keras & 2.2.4 \\\\ \\hline\n",
       "\\hline \\multicolumn{2}{|l|}{Thu Nov 08 17:33:49 2018 ¢¥eCN©öI¡¾©ö C¡ÍA¨ª¨öA} \\\\ \\hline\n",
       "\\end{tabular}\n"
      ],
      "text/plain": [
       "Software versions\n",
       "Python 3.6.6 64bit [MSC v.1900 64 bit (AMD64)]\n",
       "IPython 7.1.1\n",
       "OS Windows 10 10.0.17134 SP0\n",
       "keras 2.2.4\n",
       "Thu Nov 08 17:33:49 2018 ¢¥eCN©öI¡¾©ö C¡ÍA¨ª¨öA"
      ]
     },
     "execution_count": 22,
     "metadata": {},
     "output_type": "execute_result"
    }
   ],
   "source": [
    "from keras.layers import LSTM\n",
    "\n",
    "%reload_ext version_information\n",
    "%version_information keras"
   ]
  },
  {
   "cell_type": "code",
   "execution_count": 23,
   "metadata": {},
   "outputs": [
    {
     "name": "stdout",
     "output_type": "stream",
     "text": [
      "_________________________________________________________________\n",
      "Layer (type)                 Output Shape              Param #   \n",
      "=================================================================\n",
      "embedding_5 (Embedding)      (None, None, 32)          320000    \n",
      "_________________________________________________________________\n",
      "lstm_1 (LSTM)                (None, 32)                8320      \n",
      "_________________________________________________________________\n",
      "dense_2 (Dense)              (None, 1)                 33        \n",
      "=================================================================\n",
      "Total params: 328,353\n",
      "Trainable params: 328,353\n",
      "Non-trainable params: 0\n",
      "_________________________________________________________________\n"
     ]
    }
   ],
   "source": [
    "model = Sequential()\n",
    "model.add(Embedding(max_features, 32))\n",
    "model.add(LSTM(32))\n",
    "model.add(Dense(1, activation='sigmoid'))\n",
    "\n",
    "model.summary()"
   ]
  },
  {
   "cell_type": "code",
   "execution_count": 24,
   "metadata": {},
   "outputs": [
    {
     "name": "stdout",
     "output_type": "stream",
     "text": [
      "Train on 20000 samples, validate on 5000 samples\n",
      "Epoch 1/10\n",
      "20000/20000 [==============================] - 27s 1ms/step - loss: 0.5052 - acc: 0.7643 - val_loss: 0.3376 - val_acc: 0.8576\n",
      "Epoch 2/10\n",
      "20000/20000 [==============================] - 27s 1ms/step - loss: 0.2897 - acc: 0.8856 - val_loss: 0.3262 - val_acc: 0.8630\n",
      "Epoch 3/10\n",
      "20000/20000 [==============================] - 27s 1ms/step - loss: 0.2311 - acc: 0.9121 - val_loss: 0.3612 - val_acc: 0.8644\n",
      "Epoch 4/10\n",
      "20000/20000 [==============================] - 26s 1ms/step - loss: 0.1954 - acc: 0.9277 - val_loss: 0.2909 - val_acc: 0.8722\n",
      "Epoch 5/10\n",
      "20000/20000 [==============================] - 26s 1ms/step - loss: 0.1729 - acc: 0.9378 - val_loss: 0.3211 - val_acc: 0.8868\n",
      "Epoch 6/10\n",
      "20000/20000 [==============================] - 27s 1ms/step - loss: 0.1554 - acc: 0.9429 - val_loss: 0.4317 - val_acc: 0.8760\n",
      "Epoch 7/10\n",
      "20000/20000 [==============================] - 26s 1ms/step - loss: 0.1402 - acc: 0.9507 - val_loss: 0.3818 - val_acc: 0.8814\n",
      "Epoch 8/10\n",
      "20000/20000 [==============================] - 27s 1ms/step - loss: 0.1296 - acc: 0.9543 - val_loss: 0.3293 - val_acc: 0.8846\n",
      "Epoch 9/10\n",
      "20000/20000 [==============================] - 28s 1ms/step - loss: 0.1162 - acc: 0.9589 - val_loss: 0.3519 - val_acc: 0.8548\n",
      "Epoch 10/10\n",
      "20000/20000 [==============================] - 27s 1ms/step - loss: 0.1096 - acc: 0.9622 - val_loss: 0.3684 - val_acc: 0.8578\n"
     ]
    }
   ],
   "source": [
    "model.compile(optimizer='rmsprop', loss='binary_crossentropy', metrics=['acc'])\n",
    "\n",
    "history = model.fit(input_train, y_train,\n",
    "                    epochs=10,\n",
    "                    batch_size=128,\n",
    "                    validation_split=0.2)"
   ]
  },
  {
   "cell_type": "code",
   "execution_count": 25,
   "metadata": {},
   "outputs": [
    {
     "data": {
      "image/png": "[encoded data removed]",
      "text/plain": [
       "<Figure size 432x288 with 1 Axes>"
      ]
     },
     "metadata": {},
     "output_type": "display_data"
    },
    {
     "data": {
      "image/png": "[encoded data removed]",
      "text/plain": [
       "<Figure size 432x288 with 1 Axes>"
      ]
     },
     "metadata": {},
     "output_type": "display_data"
    }
   ],
   "source": [
    "acc = history.history['acc']\n",
    "val_acc = history.history['val_acc']\n",
    "loss = history.history['loss']\n",
    "val_loss = history.history['val_loss']\n",
    "epochs = range(1, len(acc) + 1)\n",
    "\n",
    "plt.figure()\n",
    "plt.plot(epochs, acc, 'bo', label='Training acc')\n",
    "plt.plot(epochs, val_acc, 'b', label='Validation acc')\n",
    "plt.title('Training and validation accuracy')\n",
    "plt.legend()\n",
    "\n",
    "plt.figure()\n",
    "plt.plot(epochs, loss, 'bo', label='Training loss')\n",
    "plt.plot(epochs, val_loss, 'b', label='Validation loss')\n",
    "plt.title('Training and validation loss')\n",
    "plt.legend()\n",
    "\n",
    "plt.show()"
   ]
  }
 ],
 "metadata": {
  "kernelspec": {
   "display_name": "Python 3",
   "language": "python",
   "name": "python3"
  },
  "language_info": {
   "codemirror_mode": {
    "name": "ipython",
    "version": 3
   },
   "file_extension": ".py",
   "mimetype": "text/x-python",
   "name": "python",
   "nbconvert_exporter": "python",
   "pygments_lexer": "ipython3",
   "version": "3.6.6"
  }
 },
 "nbformat": 4,
 "nbformat_minor": 2
}
