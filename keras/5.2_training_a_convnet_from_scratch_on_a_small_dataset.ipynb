{
 "cells": [
  {
   "cell_type": "markdown",
   "metadata": {},
   "source": [
    "# 5. Deep Learning for Computer Vision\n",
    "---\n",
    "\n",
    "## 5.2 Training a ConvNet from Scratch on a Small Dataset \n",
    "---\n",
    "\n",
    "### Listing 5.4 Copying images to training, validation, and test directories\n",
    "---\n",
    "\n",
    "* [The Dogs vs. Cats dataset](https://www.kaggle.com/c/dogs-vs-cats) (kaggle)\n",
    "   * 12,500 images of dogs\n",
    "   * 12,500 images of cats"
   ]
  },
  {
   "cell_type": "code",
   "execution_count": 1,
   "metadata": {},
   "outputs": [
    {
     "data": {
      "application/json": {
       "Software versions": [
        {
         "module": "Python",
         "version": "3.6.6 64bit [MSC v.1900 64 bit (AMD64)]"
        },
        {
         "module": "IPython",
         "version": "7.1.1"
        },
        {
         "module": "OS",
         "version": "Windows 10 10.0.17134 SP0"
        }
       ]
      },
      "text/html": [
       "<table><tr><th>Software</th><th>Version</th></tr><tr><td>Python</td><td>3.6.6 64bit [MSC v.1900 64 bit (AMD64)]</td></tr><tr><td>IPython</td><td>7.1.1</td></tr><tr><td>OS</td><td>Windows 10 10.0.17134 SP0</td></tr><tr><td colspan='2'>Fri Nov 02 03:39:26 2018 ¢¥eCN©öI¡¾©ö C¡ÍA¨ª¨öA</td></tr></table>"
      ],
      "text/latex": [
       "\\begin{tabular}{|l|l|}\\hline\n",
       "{\\bf Software} & {\\bf Version} \\\\ \\hline\\hline\n",
       "Python & 3.6.6 64bit [MSC v.1900 64 bit (AMD64)] \\\\ \\hline\n",
       "IPython & 7.1.1 \\\\ \\hline\n",
       "OS & Windows 10 10.0.17134 SP0 \\\\ \\hline\n",
       "\\hline \\multicolumn{2}{|l|}{Fri Nov 02 03:39:26 2018 ¢¥eCN©öI¡¾©ö C¡ÍA¨ª¨öA} \\\\ \\hline\n",
       "\\end{tabular}\n"
      ],
      "text/plain": [
       "Software versions\n",
       "Python 3.6.6 64bit [MSC v.1900 64 bit (AMD64)]\n",
       "IPython 7.1.1\n",
       "OS Windows 10 10.0.17134 SP0\n",
       "Fri Nov 02 03:39:26 2018 ¢¥eCN©öI¡¾©ö C¡ÍA¨ª¨öA"
      ]
     },
     "execution_count": 1,
     "metadata": {},
     "output_type": "execute_result"
    }
   ],
   "source": [
    "import os, shutil\n",
    "\n",
    "%load_ext version_information\n",
    "%version_information"
   ]
  },
  {
   "cell_type": "code",
   "execution_count": 2,
   "metadata": {},
   "outputs": [],
   "source": [
    "# Original dataset path\n",
    "original_dataset_dir = 'D:/utils/jin_utils/data/dataset/dogs_vs_cats/train/'\n",
    "\n",
    "# Smaller dataset path\n",
    "base_dir = 'data/dogs_vs_cats_small/'\n",
    "if not os.path.exists(base_dir):\n",
    "    os.makedirs(base_dir)\n",
    "\n",
    "# Directories for the training, validation, and test splits\n",
    "train_dir = os.path.join(base_dir, 'train')\n",
    "if not os.path.exists(train_dir):\n",
    "    os.makedirs(train_dir)\n",
    "validation_dir = os.path.join(base_dir, 'validation')\n",
    "if not os.path.exists(validation_dir):\n",
    "    os.makedirs(validation_dir)\n",
    "test_dir = os.path.join(base_dir, 'test')\n",
    "if not os.path.exists(test_dir):\n",
    "    os.makedirs(test_dir)\n",
    "\n",
    "train_cats_dir = os.path.join(train_dir, 'cats')\n",
    "if not os.path.exists(train_cats_dir):\n",
    "    os.makedirs(train_cats_dir)\n",
    "train_dogs_dir = os.path.join(train_dir, 'dogs')\n",
    "if not os.path.exists(train_dogs_dir):\n",
    "    os.makedirs(train_dogs_dir)\n",
    "\n",
    "validation_cats_dir = os.path.join(validation_dir, 'cats')\n",
    "if not os.path.exists(validation_cats_dir):\n",
    "    os.makedirs(validation_cats_dir)\n",
    "validation_dogs_dir = os.path.join(validation_dir, 'dogs')\n",
    "if not os.path.exists(validation_dogs_dir):\n",
    "    os.makedirs(validation_dogs_dir)\n",
    "\n",
    "test_cats_dir = os.path.join(test_dir, 'cats')\n",
    "if not os.path.exists(test_cats_dir):\n",
    "    os.makedirs(test_cats_dir)\n",
    "test_dogs_dir = os.path.join(test_dir, 'dogs')\n",
    "if not os.path.exists(test_dogs_dir):\n",
    "    os.makedirs(test_dogs_dir)\n",
    "\n",
    "# Copy cat data\n",
    "# First 1,000 for train\n",
    "filenames = ['cat.{}.jpg'.format(i) for i in range(1000)]\n",
    "for filename in filenames:\n",
    "    src = os.path.join(original_dataset_dir, filename)\n",
    "    dst = os.path.join(train_cats_dir, filename)\n",
    "    shutil.copyfile(src, dst)\n",
    "\n",
    "# Next 500 for validation\n",
    "filenames = ['cat.{}.jpg'.format(i) for i in range(1000, 1500)]\n",
    "for filename in filenames:\n",
    "    src = os.path.join(original_dataset_dir, filename)\n",
    "    dst = os.path.join(validation_cats_dir, filename)\n",
    "    shutil.copyfile(src, dst)\n",
    "\n",
    "# Next 500 for test\n",
    "filenames = ['cat.{}.jpg'.format(i) for i in range(1500, 2000)]\n",
    "for filename in filenames:\n",
    "    src = os.path.join(original_dataset_dir, filename)\n",
    "    dst = os.path.join(test_cats_dir, filename)\n",
    "    shutil.copyfile(src, dst)\n",
    "    \n",
    "# Copy dog data\n",
    "# First 1,000 for train\n",
    "filenames = ['dog.{}.jpg'.format(i) for i in range(1000)]\n",
    "for filename in filenames:\n",
    "    src = os.path.join(original_dataset_dir, filename)\n",
    "    dst = os.path.join(train_dogs_dir, filename)\n",
    "    shutil.copyfile(src, dst)\n",
    "\n",
    "# Next 500 for validation\n",
    "filenames = ['dog.{}.jpg'.format(i) for i in range(1000, 1500)]\n",
    "for filename in filenames:\n",
    "    src = os.path.join(original_dataset_dir, filename)\n",
    "    dst = os.path.join(validation_dogs_dir, filename)\n",
    "    shutil.copyfile(src, dst)\n",
    "\n",
    "# Next 500 for test\n",
    "filenames = ['dog.{}.jpg'.format(i) for i in range(1500, 2000)]\n",
    "for filename in filenames:\n",
    "    src = os.path.join(original_dataset_dir, filename)\n",
    "    dst = os.path.join(test_dogs_dir, filename)\n",
    "    shutil.copyfile(src, dst)"
   ]
  },
  {
   "cell_type": "code",
   "execution_count": 3,
   "metadata": {},
   "outputs": [
    {
     "name": "stdout",
     "output_type": "stream",
     "text": [
      "total training cat images: 1000\n",
      "total training dog images: 1000\n",
      "total validation cat images: 500\n",
      "total validation dog images: 500\n",
      "total test cat images: 500\n",
      "total test dog images: 500\n"
     ]
    }
   ],
   "source": [
    "print('total training cat images:', len(os.listdir(train_cats_dir)))\n",
    "print('total training dog images:', len(os.listdir(train_dogs_dir)))\n",
    "print('total validation cat images:', len(os.listdir(validation_cats_dir)))\n",
    "print('total validation dog images:', len(os.listdir(validation_dogs_dir)))\n",
    "print('total test cat images:', len(os.listdir(test_cats_dir)))\n",
    "print('total test dog images:', len(os.listdir(test_dogs_dir)))"
   ]
  },
  {
   "cell_type": "markdown",
   "metadata": {},
   "source": [
    "### Listing 5.5 Instantiating a small convnet for dogs vs. cats classification\n",
    "---"
   ]
  },
  {
   "cell_type": "code",
   "execution_count": 4,
   "metadata": {},
   "outputs": [
    {
     "data": {
      "application/json": {
       "Software versions": [
        {
         "module": "Python",
         "version": "3.6.6 64bit [MSC v.1900 64 bit (AMD64)]"
        },
        {
         "module": "IPython",
         "version": "5.3.0"
        },
        {
         "module": "OS",
         "version": "Windows 10 10.0.17134 SP0"
        },
        {
         "module": "keras",
         "version": "2.2.4"
        }
       ]
      },
      "text/html": [
       "<table><tr><th>Software</th><th>Version</th></tr><tr><td>Python</td><td>3.6.6 64bit [MSC v.1900 64 bit (AMD64)]</td></tr><tr><td>IPython</td><td>5.3.0</td></tr><tr><td>OS</td><td>Windows 10 10.0.17134 SP0</td></tr><tr><td>keras</td><td>2.2.4</td></tr><tr><td colspan='2'>Thu Nov 01 18:08:10 2018 ¢¥eCN©öI¡¾©ö C¡ÍA¨ª¨öA</td></tr></table>"
      ],
      "text/latex": [
       "\\begin{tabular}{|l|l|}\\hline\n",
       "{\\bf Software} & {\\bf Version} \\\\ \\hline\\hline\n",
       "Python & 3.6.6 64bit [MSC v.1900 64 bit (AMD64)] \\\\ \\hline\n",
       "IPython & 5.3.0 \\\\ \\hline\n",
       "OS & Windows 10 10.0.17134 SP0 \\\\ \\hline\n",
       "keras & 2.2.4 \\\\ \\hline\n",
       "\\hline \\multicolumn{2}{|l|}{Thu Nov 01 18:08:10 2018 ¢¥eCN©öI¡¾©ö C¡ÍA¨ª¨öA} \\\\ \\hline\n",
       "\\end{tabular}\n"
      ],
      "text/plain": [
       "Software versions\n",
       "Python 3.6.6 64bit [MSC v.1900 64 bit (AMD64)]\n",
       "IPython 5.3.0\n",
       "OS Windows 10 10.0.17134 SP0\n",
       "keras 2.2.4\n",
       "Thu Nov 01 18:08:10 2018 ¢¥eCN©öI¡¾©ö C¡ÍA¨ª¨öA"
      ]
     },
     "execution_count": 4,
     "metadata": {},
     "output_type": "execute_result"
    }
   ],
   "source": [
    "from keras import layers\n",
    "from keras import models\n",
    "\n",
    "%reload_ext version_information\n",
    "%version_information keras"
   ]
  },
  {
   "cell_type": "code",
   "execution_count": 5,
   "metadata": {},
   "outputs": [
    {
     "name": "stdout",
     "output_type": "stream",
     "text": [
      "_________________________________________________________________\n",
      "Layer (type)                 Output Shape              Param #   \n",
      "=================================================================\n",
      "conv2d_1 (Conv2D)            (None, 148, 148, 32)      896       \n",
      "_________________________________________________________________\n",
      "max_pooling2d_1 (MaxPooling2 (None, 74, 74, 32)        0         \n",
      "_________________________________________________________________\n",
      "conv2d_2 (Conv2D)            (None, 72, 72, 64)        18496     \n",
      "_________________________________________________________________\n",
      "max_pooling2d_2 (MaxPooling2 (None, 36, 36, 64)        0         \n",
      "_________________________________________________________________\n",
      "conv2d_3 (Conv2D)            (None, 34, 34, 128)       73856     \n",
      "_________________________________________________________________\n",
      "max_pooling2d_3 (MaxPooling2 (None, 17, 17, 128)       0         \n",
      "_________________________________________________________________\n",
      "conv2d_4 (Conv2D)            (None, 15, 15, 128)       147584    \n",
      "_________________________________________________________________\n",
      "max_pooling2d_4 (MaxPooling2 (None, 7, 7, 128)         0         \n",
      "_________________________________________________________________\n",
      "flatten_1 (Flatten)          (None, 6272)              0         \n",
      "_________________________________________________________________\n",
      "dense_1 (Dense)              (None, 512)               3211776   \n",
      "_________________________________________________________________\n",
      "dense_2 (Dense)              (None, 1)                 513       \n",
      "=================================================================\n",
      "Total params: 3,453,121\n",
      "Trainable params: 3,453,121\n",
      "Non-trainable params: 0\n",
      "_________________________________________________________________\n"
     ]
    }
   ],
   "source": [
    "model = models.Sequential()\n",
    "model.add(layers.Conv2D(32, (3, 3), activation='relu', input_shape=(150, 150, 3)))\n",
    "model.add(layers.MaxPooling2D((2, 2)))\n",
    "model.add(layers.Conv2D(64, (3, 3), activation='relu'))\n",
    "model.add(layers.MaxPooling2D((2, 2)))\n",
    "model.add(layers.Conv2D(128, (3, 3), activation='relu'))\n",
    "model.add(layers.MaxPooling2D((2, 2)))\n",
    "model.add(layers.Conv2D(128, (3, 3), activation='relu'))\n",
    "model.add(layers.MaxPooling2D((2, 2)))\n",
    "model.add(layers.Flatten())\n",
    "model.add(layers.Dense(512, activation='relu'))\n",
    "model.add(layers.Dense(1, activation='sigmoid'))\n",
    "\n",
    "model.summary()"
   ]
  },
  {
   "cell_type": "markdown",
   "metadata": {},
   "source": [
    "### Listing 5.6 Configuring the model for training\n",
    "---"
   ]
  },
  {
   "cell_type": "code",
   "execution_count": 6,
   "metadata": {},
   "outputs": [
    {
     "data": {
      "application/json": {
       "Software versions": [
        {
         "module": "Python",
         "version": "3.6.6 64bit [MSC v.1900 64 bit (AMD64)]"
        },
        {
         "module": "IPython",
         "version": "5.3.0"
        },
        {
         "module": "OS",
         "version": "Windows 10 10.0.17134 SP0"
        },
        {
         "module": "keras",
         "version": "2.2.4"
        }
       ]
      },
      "text/html": [
       "<table><tr><th>Software</th><th>Version</th></tr><tr><td>Python</td><td>3.6.6 64bit [MSC v.1900 64 bit (AMD64)]</td></tr><tr><td>IPython</td><td>5.3.0</td></tr><tr><td>OS</td><td>Windows 10 10.0.17134 SP0</td></tr><tr><td>keras</td><td>2.2.4</td></tr><tr><td colspan='2'>Thu Nov 01 18:08:10 2018 ¢¥eCN©öI¡¾©ö C¡ÍA¨ª¨öA</td></tr></table>"
      ],
      "text/latex": [
       "\\begin{tabular}{|l|l|}\\hline\n",
       "{\\bf Software} & {\\bf Version} \\\\ \\hline\\hline\n",
       "Python & 3.6.6 64bit [MSC v.1900 64 bit (AMD64)] \\\\ \\hline\n",
       "IPython & 5.3.0 \\\\ \\hline\n",
       "OS & Windows 10 10.0.17134 SP0 \\\\ \\hline\n",
       "keras & 2.2.4 \\\\ \\hline\n",
       "\\hline \\multicolumn{2}{|l|}{Thu Nov 01 18:08:10 2018 ¢¥eCN©öI¡¾©ö C¡ÍA¨ª¨öA} \\\\ \\hline\n",
       "\\end{tabular}\n"
      ],
      "text/plain": [
       "Software versions\n",
       "Python 3.6.6 64bit [MSC v.1900 64 bit (AMD64)]\n",
       "IPython 5.3.0\n",
       "OS Windows 10 10.0.17134 SP0\n",
       "keras 2.2.4\n",
       "Thu Nov 01 18:08:10 2018 ¢¥eCN©öI¡¾©ö C¡ÍA¨ª¨öA"
      ]
     },
     "execution_count": 6,
     "metadata": {},
     "output_type": "execute_result"
    }
   ],
   "source": [
    "from keras import optimizers\n",
    "\n",
    "%reload_ext version_information\n",
    "%version_information keras"
   ]
  },
  {
   "cell_type": "code",
   "execution_count": 7,
   "metadata": {},
   "outputs": [],
   "source": [
    "model.compile(loss='binary_crossentropy',\n",
    "              optimizer=optimizers.RMSprop(lr=1e-4),\n",
    "              metrics=['accuracy'])"
   ]
  },
  {
   "cell_type": "markdown",
   "metadata": {},
   "source": [
    "### Listing 5.7 Using ImageDataGenerator to read images from directories\n",
    "---\n",
    "\n",
    "Keras has utilities to take care of preprocessing steps automatically. Keras has a module with **image-processing helper tools**, located at **keras.preprocessing.image**. In particular, it contains the class **ImageDataGenerator**, which lets you quickly set up **Python generators** that can **automatically turn image files on disk into batches of preprocessed tensors**."
   ]
  },
  {
   "cell_type": "code",
   "execution_count": 64,
   "metadata": {},
   "outputs": [
    {
     "data": {
      "application/json": {
       "Software versions": [
        {
         "module": "Python",
         "version": "3.6.6 64bit [MSC v.1900 64 bit (AMD64)]"
        },
        {
         "module": "IPython",
         "version": "5.3.0"
        },
        {
         "module": "OS",
         "version": "Windows 10 10.0.17134 SP0"
        },
        {
         "module": "keras",
         "version": "2.2.4"
        }
       ]
      },
      "text/html": [
       "<table><tr><th>Software</th><th>Version</th></tr><tr><td>Python</td><td>3.6.6 64bit [MSC v.1900 64 bit (AMD64)]</td></tr><tr><td>IPython</td><td>5.3.0</td></tr><tr><td>OS</td><td>Windows 10 10.0.17134 SP0</td></tr><tr><td>keras</td><td>2.2.4</td></tr><tr><td colspan='2'>Thu Nov 01 20:52:31 2018 ¢¥eCN©öI¡¾©ö C¡ÍA¨ª¨öA</td></tr></table>"
      ],
      "text/latex": [
       "\\begin{tabular}{|l|l|}\\hline\n",
       "{\\bf Software} & {\\bf Version} \\\\ \\hline\\hline\n",
       "Python & 3.6.6 64bit [MSC v.1900 64 bit (AMD64)] \\\\ \\hline\n",
       "IPython & 5.3.0 \\\\ \\hline\n",
       "OS & Windows 10 10.0.17134 SP0 \\\\ \\hline\n",
       "keras & 2.2.4 \\\\ \\hline\n",
       "\\hline \\multicolumn{2}{|l|}{Thu Nov 01 20:52:31 2018 ¢¥eCN©öI¡¾©ö C¡ÍA¨ª¨öA} \\\\ \\hline\n",
       "\\end{tabular}\n"
      ],
      "text/plain": [
       "Software versions\n",
       "Python 3.6.6 64bit [MSC v.1900 64 bit (AMD64)]\n",
       "IPython 5.3.0\n",
       "OS Windows 10 10.0.17134 SP0\n",
       "keras 2.2.4\n",
       "Thu Nov 01 20:52:31 2018 ¢¥eCN©öI¡¾©ö C¡ÍA¨ª¨öA"
      ]
     },
     "execution_count": 64,
     "metadata": {},
     "output_type": "execute_result"
    }
   ],
   "source": [
    "from keras.preprocessing.image import ImageDataGenerator\n",
    "\n",
    "%reload_ext version_information\n",
    "%version_information keras"
   ]
  },
  {
   "cell_type": "code",
   "execution_count": 65,
   "metadata": {},
   "outputs": [
    {
     "name": "stdout",
     "output_type": "stream",
     "text": [
      "data/dogs_vs_cats_small/train\n",
      "Found 2000 images belonging to 2 classes.\n",
      "data/dogs_vs_cats_small/validation\n",
      "Found 1000 images belonging to 2 classes.\n"
     ]
    }
   ],
   "source": [
    "\"\"\"\n",
    "Generate batches of tensor image data with real-time data augmentation.\n",
    "The data will be looped over (in batches).\n",
    "\"\"\"\n",
    "train_datagen = ImageDataGenerator(rescale=1./255)    # Rescale the pixel values: [0, 255] → [0, 1]\n",
    "test_datagen = ImageDataGenerator(rescale=1./255)\n",
    "\n",
    "print(train_dir)\n",
    "\"\"\"\n",
    "Takes the path to a directory & generates batches of augmented data.\n",
    "\"\"\"\n",
    "train_generator = train_datagen.flow_from_directory(train_dir,\n",
    "                                                    target_size=(150, 150),    # Resize\n",
    "                                                    batch_size=20,\n",
    "                                                    class_mode='binary')    # Binary classfication (binary crossentropy, binary labels)\n",
    "print(validation_dir)\n",
    "validation_generator = test_datagen.flow_from_directory(validation_dir,\n",
    "                                                        target_size=(150, 150),\n",
    "                                                        batch_size=20,\n",
    "                                                        class_mode='binary')"
   ]
  },
  {
   "cell_type": "code",
   "execution_count": 67,
   "metadata": {},
   "outputs": [
    {
     "data": {
      "text/plain": [
       "keras.preprocessing.image.ImageDataGenerator"
      ]
     },
     "execution_count": 67,
     "metadata": {},
     "output_type": "execute_result"
    }
   ],
   "source": [
    "type(train_datagen)"
   ]
  },
  {
   "cell_type": "code",
   "execution_count": 66,
   "metadata": {},
   "outputs": [
    {
     "data": {
      "text/plain": [
       "keras_preprocessing.image.DirectoryIterator"
      ]
     },
     "execution_count": 66,
     "metadata": {},
     "output_type": "execute_result"
    }
   ],
   "source": [
    "type(train_generator)"
   ]
  },
  {
   "cell_type": "code",
   "execution_count": 69,
   "metadata": {},
   "outputs": [
    {
     "data": {
      "text/plain": [
       "['__class__',\n",
       " '__delattr__',\n",
       " '__dict__',\n",
       " '__dir__',\n",
       " '__doc__',\n",
       " '__eq__',\n",
       " '__format__',\n",
       " '__ge__',\n",
       " '__getattribute__',\n",
       " '__getitem__',\n",
       " '__gt__',\n",
       " '__hash__',\n",
       " '__init__',\n",
       " '__init_subclass__',\n",
       " '__iter__',\n",
       " '__le__',\n",
       " '__len__',\n",
       " '__lt__',\n",
       " '__module__',\n",
       " '__ne__',\n",
       " '__new__',\n",
       " '__next__',\n",
       " '__reduce__',\n",
       " '__reduce_ex__',\n",
       " '__repr__',\n",
       " '__setattr__',\n",
       " '__sizeof__',\n",
       " '__str__',\n",
       " '__subclasshook__',\n",
       " '__weakref__',\n",
       " '_flow_index',\n",
       " '_get_batches_of_transformed_samples',\n",
       " '_set_index_array',\n",
       " 'batch_index',\n",
       " 'batch_size',\n",
       " 'class_indices',\n",
       " 'class_mode',\n",
       " 'classes',\n",
       " 'color_mode',\n",
       " 'common_init',\n",
       " 'data_format',\n",
       " 'directory',\n",
       " 'dtype',\n",
       " 'filenames',\n",
       " 'image_data_generator',\n",
       " 'image_shape',\n",
       " 'index_array',\n",
       " 'index_generator',\n",
       " 'interpolation',\n",
       " 'lock',\n",
       " 'n',\n",
       " 'next',\n",
       " 'num_classes',\n",
       " 'on_epoch_end',\n",
       " 'reset',\n",
       " 'samples',\n",
       " 'save_format',\n",
       " 'save_prefix',\n",
       " 'save_to_dir',\n",
       " 'seed',\n",
       " 'shuffle',\n",
       " 'split',\n",
       " 'subset',\n",
       " 'target_size',\n",
       " 'total_batches_seen']"
      ]
     },
     "execution_count": 69,
     "metadata": {},
     "output_type": "execute_result"
    }
   ],
   "source": [
    "dir(train_generator)"
   ]
  },
  {
   "cell_type": "markdown",
   "metadata": {},
   "source": [
    "**It yields batches of images and labels.** Note that the generator yields these batches **indefinitely**: it loops endlessly over the images in the target folder."
   ]
  },
  {
   "cell_type": "code",
   "execution_count": 70,
   "metadata": {},
   "outputs": [
    {
     "name": "stdout",
     "output_type": "stream",
     "text": [
      "data batch shape: (20, 150, 150, 3)\n",
      "labels batch shape: (20,)\n"
     ]
    }
   ],
   "source": [
    "for data_batch, labels_batch in train_generator:\n",
    "    print('data batch shape:', data_batch.shape)\n",
    "    print('labels batch shape:', labels_batch.shape)\n",
    "    \n",
    "    break"
   ]
  },
  {
   "cell_type": "markdown",
   "metadata": {},
   "source": [
    "#### Understanding Python generators\n",
    "---\n",
    "\n",
    "A Python **generator** is an object that acts **as an iterator**: it’s an object you can use with the for … in operator. Generators are built using the `yield` operator.\n",
    "   * [Iterator and generator types](https://docs.python.org/3/library/stdtypes.html?highlight=generator#iterator-types)\n",
    "   * [Yield expressions](https://docs.python.org/3/reference/expressions.html#yield-expressions)\n",
    "   * [What is the difference between yield and return in python?](https://www.quora.com/What-is-the-difference-between-yield-and-return-in-python)\n",
    "\n",
    "\n",
    "Here is an example of a generator that yields integers:"
   ]
  },
  {
   "cell_type": "code",
   "execution_count": 8,
   "metadata": {},
   "outputs": [
    {
     "name": "stdout",
     "output_type": "stream",
     "text": [
      "1\n",
      "2\n",
      "3\n",
      "4\n",
      "5\n"
     ]
    }
   ],
   "source": [
    "def generator():\n",
    "    i = 0\n",
    "    while True:\n",
    "        i += 1\n",
    "        yield i\n",
    "\n",
    "for item in generator():\n",
    "    print(item)\n",
    "    \n",
    "    if item > 4:\n",
    "        break"
   ]
  },
  {
   "cell_type": "code",
   "execution_count": 57,
   "metadata": {},
   "outputs": [
    {
     "data": {
      "text/plain": [
       "function"
      ]
     },
     "execution_count": 57,
     "metadata": {},
     "output_type": "execute_result"
    }
   ],
   "source": [
    "type(generator)"
   ]
  },
  {
   "cell_type": "markdown",
   "metadata": {},
   "source": [
    "`gen` is a generator."
   ]
  },
  {
   "cell_type": "code",
   "execution_count": 83,
   "metadata": {},
   "outputs": [
    {
     "data": {
      "text/plain": [
       "generator"
      ]
     },
     "execution_count": 83,
     "metadata": {},
     "output_type": "execute_result"
    }
   ],
   "source": [
    "gen = generator()\n",
    "\n",
    "type(gen)"
   ]
  },
  {
   "cell_type": "markdown",
   "metadata": {},
   "source": [
    "`gen` has `__next__` method."
   ]
  },
  {
   "cell_type": "code",
   "execution_count": 84,
   "metadata": {},
   "outputs": [
    {
     "data": {
      "text/plain": [
       "['__class__',\n",
       " '__del__',\n",
       " '__delattr__',\n",
       " '__dir__',\n",
       " '__doc__',\n",
       " '__eq__',\n",
       " '__format__',\n",
       " '__ge__',\n",
       " '__getattribute__',\n",
       " '__gt__',\n",
       " '__hash__',\n",
       " '__init__',\n",
       " '__init_subclass__',\n",
       " '__iter__',\n",
       " '__le__',\n",
       " '__lt__',\n",
       " '__name__',\n",
       " '__ne__',\n",
       " '__new__',\n",
       " '__next__',\n",
       " '__qualname__',\n",
       " '__reduce__',\n",
       " '__reduce_ex__',\n",
       " '__repr__',\n",
       " '__setattr__',\n",
       " '__sizeof__',\n",
       " '__str__',\n",
       " '__subclasshook__',\n",
       " 'close',\n",
       " 'gi_code',\n",
       " 'gi_frame',\n",
       " 'gi_running',\n",
       " 'gi_yieldfrom',\n",
       " 'send',\n",
       " 'throw']"
      ]
     },
     "execution_count": 84,
     "metadata": {},
     "output_type": "execute_result"
    }
   ],
   "source": [
    "dir(gen)"
   ]
  },
  {
   "cell_type": "code",
   "execution_count": 85,
   "metadata": {},
   "outputs": [
    {
     "data": {
      "text/plain": [
       "1"
      ]
     },
     "execution_count": 85,
     "metadata": {},
     "output_type": "execute_result"
    }
   ],
   "source": [
    "\"\"\"\n",
    "Return the next item from the iterator. If default is given and the iterator\n",
    "is exhausted, it is returned instead of raising StopIteration.\n",
    "\"\"\"\n",
    "next(gen)\n",
    "# gen.__next__()"
   ]
  },
  {
   "cell_type": "code",
   "execution_count": 86,
   "metadata": {},
   "outputs": [
    {
     "data": {
      "text/plain": [
       "2"
      ]
     },
     "execution_count": 86,
     "metadata": {},
     "output_type": "execute_result"
    }
   ],
   "source": [
    "next(gen)"
   ]
  },
  {
   "cell_type": "code",
   "execution_count": 87,
   "metadata": {},
   "outputs": [
    {
     "data": {
      "text/plain": [
       "3"
      ]
     },
     "execution_count": 87,
     "metadata": {},
     "output_type": "execute_result"
    }
   ],
   "source": [
    "next(gen)"
   ]
  },
  {
   "cell_type": "code",
   "execution_count": 88,
   "metadata": {},
   "outputs": [
    {
     "name": "stdout",
     "output_type": "stream",
     "text": [
      "4\n",
      "5\n",
      "6\n",
      "7\n",
      "8\n",
      "9\n",
      "10\n"
     ]
    }
   ],
   "source": [
    "for x in range(7):\n",
    "    print(next(gen))"
   ]
  },
  {
   "cell_type": "markdown",
   "metadata": {},
   "source": [
    "### Listing 5.8 Fitting the model using a batch generator\n",
    "---"
   ]
  },
  {
   "cell_type": "code",
   "execution_count": 89,
   "metadata": {},
   "outputs": [
    {
     "name": "stdout",
     "output_type": "stream",
     "text": [
      "Epoch 1/30\n",
      "100/100 [==============================] - 62s 620ms/step - loss: 0.6936 - acc: 0.5325 - val_loss: 0.6991 - val_acc: 0.5140\n",
      "Epoch 2/30\n",
      "100/100 [==============================] - 62s 618ms/step - loss: 0.6539 - acc: 0.6225 - val_loss: 0.6367 - val_acc: 0.6480\n",
      "Epoch 3/30\n",
      "100/100 [==============================] - 62s 620ms/step - loss: 0.6076 - acc: 0.6785 - val_loss: 0.6145 - val_acc: 0.6650\n",
      "Epoch 4/30\n",
      "100/100 [==============================] - 62s 623ms/step - loss: 0.5665 - acc: 0.7155 - val_loss: 0.5989 - val_acc: 0.6740\n",
      "Epoch 5/30\n",
      "100/100 [==============================] - 62s 621ms/step - loss: 0.5334 - acc: 0.7320 - val_loss: 0.5993 - val_acc: 0.6650\n",
      "Epoch 6/30\n",
      "100/100 [==============================] - 62s 622ms/step - loss: 0.5065 - acc: 0.7550 - val_loss: 0.5828 - val_acc: 0.6970\n",
      "Epoch 7/30\n",
      "100/100 [==============================] - 62s 617ms/step - loss: 0.4717 - acc: 0.7760 - val_loss: 0.5872 - val_acc: 0.6930\n",
      "Epoch 8/30\n",
      "100/100 [==============================] - 62s 621ms/step - loss: 0.4457 - acc: 0.7855 - val_loss: 0.5656 - val_acc: 0.6980\n",
      "Epoch 9/30\n",
      "100/100 [==============================] - 62s 623ms/step - loss: 0.4234 - acc: 0.8055 - val_loss: 0.6238 - val_acc: 0.6840\n",
      "Epoch 10/30\n",
      "100/100 [==============================] - 62s 618ms/step - loss: 0.3934 - acc: 0.8240 - val_loss: 0.5573 - val_acc: 0.7090\n",
      "Epoch 11/30\n",
      "100/100 [==============================] - 62s 618ms/step - loss: 0.3670 - acc: 0.8285 - val_loss: 0.5903 - val_acc: 0.7220\n",
      "Epoch 12/30\n",
      "100/100 [==============================] - 63s 629ms/step - loss: 0.3398 - acc: 0.8580 - val_loss: 0.6368 - val_acc: 0.7090\n",
      "Epoch 13/30\n",
      "100/100 [==============================] - 62s 620ms/step - loss: 0.3162 - acc: 0.8605 - val_loss: 0.6095 - val_acc: 0.7170\n",
      "Epoch 14/30\n",
      "100/100 [==============================] - 62s 620ms/step - loss: 0.2861 - acc: 0.8745 - val_loss: 0.7088 - val_acc: 0.7120\n",
      "Epoch 15/30\n",
      "100/100 [==============================] - 61s 615ms/step - loss: 0.2640 - acc: 0.8995 - val_loss: 0.6703 - val_acc: 0.7240\n",
      "Epoch 16/30\n",
      "100/100 [==============================] - 62s 619ms/step - loss: 0.2339 - acc: 0.9070 - val_loss: 0.7025 - val_acc: 0.7070\n",
      "Epoch 17/30\n",
      "100/100 [==============================] - 62s 617ms/step - loss: 0.2213 - acc: 0.9170 - val_loss: 0.7553 - val_acc: 0.7180\n",
      "Epoch 18/30\n",
      "100/100 [==============================] - 62s 623ms/step - loss: 0.1892 - acc: 0.9305 - val_loss: 0.8304 - val_acc: 0.7180\n",
      "Epoch 19/30\n",
      "100/100 [==============================] - 62s 623ms/step - loss: 0.1773 - acc: 0.9310 - val_loss: 0.6909 - val_acc: 0.7290\n",
      "Epoch 20/30\n",
      "100/100 [==============================] - 63s 626ms/step - loss: 0.1414 - acc: 0.9560 - val_loss: 0.8641 - val_acc: 0.7150\n",
      "Epoch 21/30\n",
      "100/100 [==============================] - 62s 625ms/step - loss: 0.1313 - acc: 0.9560 - val_loss: 0.7936 - val_acc: 0.7270\n",
      "Epoch 22/30\n",
      "100/100 [==============================] - 63s 626ms/step - loss: 0.1108 - acc: 0.9630 - val_loss: 0.8588 - val_acc: 0.7250\n",
      "Epoch 23/30\n",
      "100/100 [==============================] - 63s 626ms/step - loss: 0.0996 - acc: 0.9685 - val_loss: 0.8399 - val_acc: 0.7110\n",
      "Epoch 24/30\n",
      "100/100 [==============================] - 62s 624ms/step - loss: 0.0770 - acc: 0.9780 - val_loss: 0.9724 - val_acc: 0.7110\n",
      "Epoch 25/30\n",
      "100/100 [==============================] - 62s 622ms/step - loss: 0.0688 - acc: 0.9800 - val_loss: 1.0175 - val_acc: 0.7150\n",
      "Epoch 26/30\n",
      "100/100 [==============================] - 62s 625ms/step - loss: 0.0614 - acc: 0.9830 - val_loss: 1.3914 - val_acc: 0.6520\n",
      "Epoch 27/30\n",
      "100/100 [==============================] - 62s 625ms/step - loss: 0.0484 - acc: 0.9875 - val_loss: 1.0571 - val_acc: 0.7250\n",
      "Epoch 28/30\n",
      "100/100 [==============================] - 62s 623ms/step - loss: 0.0399 - acc: 0.9925 - val_loss: 1.1774 - val_acc: 0.7150\n",
      "Epoch 29/30\n",
      "100/100 [==============================] - 64s 637ms/step - loss: 0.0307 - acc: 0.9910 - val_loss: 1.1817 - val_acc: 0.7200\n",
      "Epoch 30/30\n",
      "100/100 [==============================] - 62s 624ms/step - loss: 0.0282 - acc: 0.9915 - val_loss: 1.3449 - val_acc: 0.7070\n"
     ]
    }
   ],
   "source": [
    "# fit_generator expects as its first argument a Python generator\n",
    "history = model.fit_generator(train_generator,    # It yield batches of inputs and targets indefinitely.\n",
    "                              steps_per_epoch=100,    # 20 × 100 = 2,000\n",
    "                              epochs=30,\n",
    "                              validation_data=validation_generator,   # It could be a generator or a tuple of Numpy arrays.\n",
    "                              validation_steps=50)    # 20 × 50 = 1,000"
   ]
  },
  {
   "cell_type": "markdown",
   "metadata": {},
   "source": [
    "### Listing 5.9 Saving the model\n",
    "---"
   ]
  },
  {
   "cell_type": "code",
   "execution_count": 90,
   "metadata": {},
   "outputs": [],
   "source": [
    "model.save('models/5.2_dogs_vs_cats_small_cnn.h5')"
   ]
  },
  {
   "cell_type": "code",
   "execution_count": 92,
   "metadata": {},
   "outputs": [],
   "source": [
    "model.save_weights('models/5.2_dogs_vs_cats_small_cnn_weights.h5')\n",
    "# model.load_weights('models/5.2_dogs_vs_cats_small_cnn_weights.h5')"
   ]
  },
  {
   "cell_type": "markdown",
   "metadata": {},
   "source": [
    "### Listing 5.10 Displaying curves of loss and accuracy during training\n",
    "---"
   ]
  },
  {
   "cell_type": "code",
   "execution_count": 102,
   "metadata": {},
   "outputs": [
    {
     "data": {
      "text/plain": [
       "keras.callbacks.History"
      ]
     },
     "execution_count": 102,
     "metadata": {},
     "output_type": "execute_result"
    }
   ],
   "source": [
    "type(history)"
   ]
  },
  {
   "cell_type": "code",
   "execution_count": 103,
   "metadata": {},
   "outputs": [
    {
     "data": {
      "text/plain": [
       "['__class__',\n",
       " '__delattr__',\n",
       " '__dict__',\n",
       " '__dir__',\n",
       " '__doc__',\n",
       " '__eq__',\n",
       " '__format__',\n",
       " '__ge__',\n",
       " '__getattribute__',\n",
       " '__gt__',\n",
       " '__hash__',\n",
       " '__init__',\n",
       " '__init_subclass__',\n",
       " '__le__',\n",
       " '__lt__',\n",
       " '__module__',\n",
       " '__ne__',\n",
       " '__new__',\n",
       " '__reduce__',\n",
       " '__reduce_ex__',\n",
       " '__repr__',\n",
       " '__setattr__',\n",
       " '__sizeof__',\n",
       " '__str__',\n",
       " '__subclasshook__',\n",
       " '__weakref__',\n",
       " 'epoch',\n",
       " 'history',\n",
       " 'model',\n",
       " 'on_batch_begin',\n",
       " 'on_batch_end',\n",
       " 'on_epoch_begin',\n",
       " 'on_epoch_end',\n",
       " 'on_train_begin',\n",
       " 'on_train_end',\n",
       " 'params',\n",
       " 'set_model',\n",
       " 'set_params',\n",
       " 'validation_data']"
      ]
     },
     "execution_count": 103,
     "metadata": {},
     "output_type": "execute_result"
    }
   ],
   "source": [
    "dir(history)"
   ]
  },
  {
   "cell_type": "code",
   "execution_count": 105,
   "metadata": {},
   "outputs": [
    {
     "data": {
      "text/plain": [
       "dict"
      ]
     },
     "execution_count": 105,
     "metadata": {},
     "output_type": "execute_result"
    }
   ],
   "source": [
    "type(history.history)"
   ]
  },
  {
   "cell_type": "code",
   "execution_count": 106,
   "metadata": {},
   "outputs": [
    {
     "data": {
      "text/plain": [
       "dict_keys(['val_loss', 'val_acc', 'loss', 'acc'])"
      ]
     },
     "execution_count": 106,
     "metadata": {},
     "output_type": "execute_result"
    }
   ],
   "source": [
    "history.history.keys()"
   ]
  },
  {
   "cell_type": "code",
   "execution_count": 107,
   "metadata": {},
   "outputs": [
    {
     "data": {
      "image/png": "[encoded data removed]",
      "text/plain": [
       "<Figure size 432x288 with 1 Axes>"
      ]
     },
     "metadata": {},
     "output_type": "display_data"
    },
    {
     "data": {
      "image/png": "[encoded data removed]",
      "text/plain": [
       "<Figure size 432x288 with 1 Axes>"
      ]
     },
     "metadata": {},
     "output_type": "display_data"
    }
   ],
   "source": [
    "import matplotlib.pyplot as plt\n",
    "\n",
    "acc = history.history['acc']\n",
    "val_acc = history.history['val_acc']\n",
    "loss = history.history['loss']\n",
    "val_loss = history.history['val_loss']\n",
    "\n",
    "epochs = range(1, len(acc) + 1)\n",
    "\n",
    "# Accuracy curves\n",
    "plt.figure()\n",
    "plt.plot(epochs, acc, 'bo', label='Training Accuracy')\n",
    "plt.plot(epochs, val_acc, 'b', label='Validation Accuracy')\n",
    "plt.title('Training and Validation Accuracy')\n",
    "plt.legend()\n",
    "\n",
    "# Loss curves\n",
    "plt.figure()\n",
    "plt.plot(epochs, loss, 'bo', label='Training Loss')\n",
    "plt.plot(epochs, val_loss, 'b', label='Validation Loss')\n",
    "plt.title('Training and Validation Loss')\n",
    "plt.legend()\n",
    "\n",
    "plt.show()"
   ]
  },
  {
   "cell_type": "markdown",
   "metadata": {},
   "source": [
    "These plots are characteristic of overfitting."
   ]
  },
  {
   "cell_type": "code",
   "execution_count": null,
   "metadata": {},
   "outputs": [],
   "source": []
  },
  {
   "cell_type": "code",
   "execution_count": null,
   "metadata": {},
   "outputs": [],
   "source": []
  },
  {
   "cell_type": "code",
   "execution_count": null,
   "metadata": {},
   "outputs": [],
   "source": []
  }
 ],
 "metadata": {
  "kernelspec": {
   "display_name": "Python 3",
   "language": "python",
   "name": "python3"
  },
  "language_info": {
   "codemirror_mode": {
    "name": "ipython",
    "version": 3
   },
   "file_extension": ".py",
   "mimetype": "text/x-python",
   "name": "python",
   "nbconvert_exporter": "python",
   "pygments_lexer": "ipython3",
   "version": "3.6.6"
  }
 },
 "nbformat": 4,
 "nbformat_minor": 2
}
