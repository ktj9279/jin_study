{
 "cells": [
  {
   "cell_type": "markdown",
   "metadata": {},
   "source": [
    "# Save and Load Arrays to a Binary file in NumPy Format\n",
    "---\n",
    "\n",
    "* **NPY format**\n",
    "\n",
    "\n",
    "`.npy`, `.npz`\n",
    "\n",
    "\n",
    "**A simple format for saving numpy arrays to disk** with the full information about them.\n",
    "\n",
    "\n",
    "The `.npy` format is **the standard binary file format in NumPy** for persisting a single arbitrary NumPy array on disk. The format stores **all of the shape and dtype information necessary to reconstruct the array correctly** even on another machine with a different architecture. The format is designed to be as simple as possible while achieving its limited goals.\n",
    "\n",
    "\n",
    "The `.npz` format is the standard format for persisting **multiple NumPy arrays** on disk. A `.npz` file is **a zip file** containing multiple `.npy` files, one for each array. When opening the saved `.npz` file with load a **NpzFile object** is returned. This is **a dictionary-like object** which can be queried for its list of arrays (with the `.files` attribute), and for the arrays themselves.\n",
    "\n",
    "\n",
    "* **Reference**\n",
    "   * [NumPy v1.15 Manual](https://docs.scipy.org/doc/numpy/index.html)\n",
    "   * [numpy.lib.format](https://docs.scipy.org/doc/numpy/reference/generated/numpy.lib.format.html#module-numpy.lib.format)"
   ]
  },
  {
   "cell_type": "code",
   "execution_count": 1,
   "metadata": {},
   "outputs": [],
   "source": [
    "import numpy as np"
   ]
  },
  {
   "cell_type": "code",
   "execution_count": 2,
   "metadata": {},
   "outputs": [
    {
     "name": "stdout",
     "output_type": "stream",
     "text": [
      "(2, 2) int32\n"
     ]
    }
   ],
   "source": [
    "array_int = np.array([[1, 2], [3, 4]])\n",
    "\n",
    "print(array_int.shape, array_int.dtype)"
   ]
  },
  {
   "cell_type": "code",
   "execution_count": 3,
   "metadata": {},
   "outputs": [],
   "source": [
    "np.save(r'data/array_int.npy', array_int, allow_pickle=False)"
   ]
  },
  {
   "cell_type": "code",
   "execution_count": 4,
   "metadata": {},
   "outputs": [
    {
     "name": "stdout",
     "output_type": "stream",
     "text": [
      "(2, 2) float64\n"
     ]
    }
   ],
   "source": [
    "array_float = np.array([[1., 2.], [3., 4.]])\n",
    "\n",
    "print(array_float.shape, array_float.dtype)"
   ]
  },
  {
   "cell_type": "markdown",
   "metadata": {},
   "source": [
    "## Save Arrays\n",
    "---\n",
    "\n",
    "```python\n",
    "numpy.save(file, arr, allow_pickle=True, fix_imports=True)\n",
    "```\n",
    "\n",
    "> Save an array to a binary file in NumPy `.npy` format."
   ]
  },
  {
   "cell_type": "code",
   "execution_count": 5,
   "metadata": {},
   "outputs": [],
   "source": [
    "np.save(r'data/array_float.npy', array_float)"
   ]
  },
  {
   "cell_type": "markdown",
   "metadata": {},
   "source": [
    "```python\n",
    "numpy.savez(file, *args, **kwds)\n",
    "```\n",
    "\n",
    "> Save several arrays into a single file in uncompressed `.npz` format."
   ]
  },
  {
   "cell_type": "code",
   "execution_count": 6,
   "metadata": {},
   "outputs": [],
   "source": [
    "np.savez(r'data/arrays_with_default_names.npz', array_int, array_float)"
   ]
  },
  {
   "cell_type": "markdown",
   "metadata": {},
   "source": [
    "Arrays will be saved in the file with the keyword names. e.g. `i`, `f`"
   ]
  },
  {
   "cell_type": "code",
   "execution_count": 7,
   "metadata": {},
   "outputs": [],
   "source": [
    "np.savez(r'data/arrays_with_keyword_names.npz', i=array_int, f=array_float)"
   ]
  },
  {
   "cell_type": "code",
   "execution_count": 8,
   "metadata": {},
   "outputs": [],
   "source": [
    "np.savez_compressed(r'data/arrays_compressed.npz', array_int, array_float)"
   ]
  },
  {
   "cell_type": "markdown",
   "metadata": {},
   "source": [
    "## Load Arrays\n",
    "---\n",
    "\n",
    "```python\n",
    "numpy.load(file, mmap_mode=None, allow_pickle=True, fix_imports=True, encoding='ASCII')\n",
    "```\n",
    "\n",
    "> Load arrays or pickled objects from `.npy`, `.npz` or pickled files.\n",
    "\n",
    "\n",
    "Load an array from `.npy` file."
   ]
  },
  {
   "cell_type": "code",
   "execution_count": 9,
   "metadata": {},
   "outputs": [
    {
     "name": "stdout",
     "output_type": "stream",
     "text": [
      "(2, 2) int32\n"
     ]
    }
   ],
   "source": [
    "arr_i = np.load(r'data/array_int.npy')\n",
    "\n",
    "print(arr_i.shape, arr_i.dtype)"
   ]
  },
  {
   "cell_type": "code",
   "execution_count": 10,
   "metadata": {},
   "outputs": [
    {
     "data": {
      "text/plain": [
       "array([[1, 2],\n",
       "       [3, 4]])"
      ]
     },
     "execution_count": 10,
     "metadata": {},
     "output_type": "execute_result"
    }
   ],
   "source": [
    "arr_i"
   ]
  },
  {
   "cell_type": "code",
   "execution_count": 11,
   "metadata": {},
   "outputs": [
    {
     "name": "stdout",
     "output_type": "stream",
     "text": [
      "(2, 2) float64\n"
     ]
    }
   ],
   "source": [
    "arr_f = np.load(r'data/array_float.npy')\n",
    "\n",
    "print(arr_f.shape, arr_f.dtype)"
   ]
  },
  {
   "cell_type": "code",
   "execution_count": 12,
   "metadata": {},
   "outputs": [
    {
     "data": {
      "text/plain": [
       "array([[1., 2.],\n",
       "       [3., 4.]])"
      ]
     },
     "execution_count": 12,
     "metadata": {},
     "output_type": "execute_result"
    }
   ],
   "source": [
    "arr_f"
   ]
  },
  {
   "cell_type": "markdown",
   "metadata": {},
   "source": [
    "Load arrays from `.npz` file."
   ]
  },
  {
   "cell_type": "code",
   "execution_count": 13,
   "metadata": {},
   "outputs": [
    {
     "data": {
      "text/plain": [
       "numpy.lib.npyio.NpzFile"
      ]
     },
     "execution_count": 13,
     "metadata": {},
     "output_type": "execute_result"
    }
   ],
   "source": [
    "arrays_with_default_names = np.load(r'data/arrays_with_default_names.npz')\n",
    "\n",
    "type(arrays_with_default_names)"
   ]
  },
  {
   "cell_type": "code",
   "execution_count": 14,
   "metadata": {},
   "outputs": [
    {
     "data": {
      "text/plain": [
       "2"
      ]
     },
     "execution_count": 14,
     "metadata": {},
     "output_type": "execute_result"
    }
   ],
   "source": [
    "len(arrays_with_default_names)"
   ]
  },
  {
   "cell_type": "code",
   "execution_count": 15,
   "metadata": {},
   "outputs": [
    {
     "data": {
      "text/plain": [
       "['arr_0', 'arr_1']"
      ]
     },
     "execution_count": 15,
     "metadata": {},
     "output_type": "execute_result"
    }
   ],
   "source": [
    "arrays_with_default_names.files"
   ]
  },
  {
   "cell_type": "code",
   "execution_count": 16,
   "metadata": {},
   "outputs": [
    {
     "data": {
      "text/plain": [
       "array([[1, 2],\n",
       "       [3, 4]])"
      ]
     },
     "execution_count": 16,
     "metadata": {},
     "output_type": "execute_result"
    }
   ],
   "source": [
    "arrays_with_default_names['arr_0']"
   ]
  },
  {
   "cell_type": "code",
   "execution_count": 17,
   "metadata": {},
   "outputs": [
    {
     "data": {
      "text/plain": [
       "array([[1., 2.],\n",
       "       [3., 4.]])"
      ]
     },
     "execution_count": 17,
     "metadata": {},
     "output_type": "execute_result"
    }
   ],
   "source": [
    "arrays_with_default_names['arr_1']"
   ]
  },
  {
   "cell_type": "code",
   "execution_count": 18,
   "metadata": {},
   "outputs": [
    {
     "data": {
      "text/plain": [
       "['i', 'f']"
      ]
     },
     "execution_count": 18,
     "metadata": {},
     "output_type": "execute_result"
    }
   ],
   "source": [
    "arrays_with_keyword_names = np.load(r'data/arrays_with_keyword_names.npz')\n",
    "\n",
    "arrays_with_keyword_names.files"
   ]
  },
  {
   "cell_type": "code",
   "execution_count": 19,
   "metadata": {},
   "outputs": [
    {
     "data": {
      "text/plain": [
       "array([[1, 2],\n",
       "       [3, 4]])"
      ]
     },
     "execution_count": 19,
     "metadata": {},
     "output_type": "execute_result"
    }
   ],
   "source": [
    "arrays_with_keyword_names['i']"
   ]
  },
  {
   "cell_type": "code",
   "execution_count": 20,
   "metadata": {},
   "outputs": [
    {
     "data": {
      "text/plain": [
       "array([[1., 2.],\n",
       "       [3., 4.]])"
      ]
     },
     "execution_count": 20,
     "metadata": {},
     "output_type": "execute_result"
    }
   ],
   "source": [
    "arrays_with_keyword_names['f']"
   ]
  },
  {
   "cell_type": "code",
   "execution_count": 21,
   "metadata": {},
   "outputs": [
    {
     "data": {
      "text/plain": [
       "['arr_0', 'arr_1']"
      ]
     },
     "execution_count": 21,
     "metadata": {},
     "output_type": "execute_result"
    }
   ],
   "source": [
    "arrays_compressed = np.load(r'data/arrays_compressed.npz')\n",
    "\n",
    "arrays_compressed.files"
   ]
  },
  {
   "cell_type": "code",
   "execution_count": 22,
   "metadata": {},
   "outputs": [
    {
     "data": {
      "text/plain": [
       "array([[1, 2],\n",
       "       [3, 4]])"
      ]
     },
     "execution_count": 22,
     "metadata": {},
     "output_type": "execute_result"
    }
   ],
   "source": [
    "arrays_compressed['arr_0']"
   ]
  },
  {
   "cell_type": "code",
   "execution_count": 23,
   "metadata": {},
   "outputs": [
    {
     "data": {
      "text/plain": [
       "array([[1., 2.],\n",
       "       [3., 4.]])"
      ]
     },
     "execution_count": 23,
     "metadata": {},
     "output_type": "execute_result"
    }
   ],
   "source": [
    "arrays_compressed['arr_1']"
   ]
  },
  {
   "cell_type": "markdown",
   "metadata": {},
   "source": [
    "## RcppCNPy\n",
    "---\n",
    "\n",
    "NumPy is a popular package for scientific / numeric computing with Python. It uses an internal file to store vectors and matrices.\n",
    "\n",
    "\n",
    "Sometimes we want to read (or write) these files with languages other than Python. The small CNPy library on GitHub permits this from C++, and by relying on Rcpp we can easily bring this to R.\n",
    "\n",
    "\n",
    "※ The standard mode of R for storing numbers is **double**. In this mode, every number uses 64 bits of memory.\n",
    "\n",
    "\n",
    "* **Reference**\n",
    "   * [RcppCNPy](http://dirk.eddelbuettel.com/code/rcpp.cnpy.html)\n",
    "   * [RcppCNPy GitHub](https://github.com/eddelbuettel/rcppcnpy)"
   ]
  },
  {
   "cell_type": "markdown",
   "metadata": {},
   "source": [
    "```r\n",
    "install.packages(\"RcppCNPy\")\n",
    "library(\"RcppCNPy\")\n",
    "\n",
    "# Do not use integer types.\n",
    "# arr_i = npyLoad(\"D:\\\\Jin\\\\workspace\\\\study\\\\jin_study\\\\numpy\\\\data\\\\array_int.npy\", \"integer\")\n",
    "arr_f = npyLoad(\"D:\\\\Jin\\\\workspace\\\\study\\\\jin_study\\\\numpy\\\\data\\\\array_float.npy\")\n",
    "```"
   ]
  }
 ],
 "metadata": {
  "kernelspec": {
   "display_name": "Python 3",
   "language": "python",
   "name": "python3"
  },
  "language_info": {
   "codemirror_mode": {
    "name": "ipython",
    "version": 3
   },
   "file_extension": ".py",
   "mimetype": "text/x-python",
   "name": "python",
   "nbconvert_exporter": "python",
   "pygments_lexer": "ipython3",
   "version": "3.6.6"
  }
 },
 "nbformat": 4,
 "nbformat_minor": 2
}
