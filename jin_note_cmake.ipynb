{
 "cells": [
  {
   "cell_type": "markdown",
   "metadata": {},
   "source": [
    "# CMake\n",
    "---\n",
    "\n",
    "* [CMake](https://cmake.org/): CMake is an open-source, cross-platform family of tools designed to build, test and package software. CMake is used to control the software compilation process using simple platform and compiler independent configuration files, and generate native makefiles and workspaces that can be used in the compiler environment of your choice. The suite of CMake tools were created by Kitware in response to the need for a powerful, cross-platform build environment for open-source projects such as ITK and VTK.\n",
    "\n",
    "\n",
    "* Reference\n",
    "   * [Kitware](https://www.kitware.com/)\n",
    "   * [CMake Documentation](https://cmake.org/documentation)"
   ]
  },
  {
   "cell_type": "markdown",
   "metadata": {},
   "source": [
    "## [Tutorial] Build OpenCV for 32 bit Windows (32비트 윈도우용 OpenCV 빌드)\n",
    "---\n",
    "\n",
    "* Reference\n",
    "   * [OpenCV > Tutorials > Installation in Windows](https://docs.opencv.org/3.4.3/d3/d52/tutorial_windows_install.html)\n",
    "   * [OpenCV 설치 및 CMake GPU+TBB+IPP 빌드(컴파일)하기](https://darkpgmr.tistory.com/102)\n",
    "   * [OpenCV 3.4.1을 Visual Studio 2017 32비트 빌드 하는 방법](https://gammabeta.tistory.com/409)\n",
    "\n",
    "\n",
    "* Environment and requirements\n",
    "   * Windows 10 Home (64 bit)\n",
    "   * CMake 3.13.4\n",
    "   * Visual Studio 2017\n",
    "   * OpenCV 3.4.3\n",
    "   \n",
    "\n",
    "**Tutorial:**\n",
    "1. CMake(cmake-gui) 실행\n",
    "2. Browse Source > OpenCV 3.4.3 sources 폴더 선택\n",
    "3. Browse Build > 빌드된 파일을 저장할 폴더 선택\n",
    "4. Configure > Specify the generator for this project > 빌드 시 사용할 generator (본 튜토리얼에서는 `Visual Studio 15 2017`) 선택 > Finish\n",
    "   * 32 bit compiler : 아무것도 적혀있지 않은 것 (e.g. Visual Studio 15 2017)\n",
    "   * 64 bit compiler : 끝에 Win64라고 적혀있는 것 (e.g. Visual Studio 15 2017 Win64)\n",
    "5. (잠시 기다리면 패키지 리스트가 출력됨.) 사용할 패키지만 체크 > Configure\n",
    "   * 본 튜토리얼에서는\n",
    "      * 체크 : `BUILD_opencv_world`\n",
    "      * 체크 해제 : `BUILD_PACKAGE`, `BUILD_WITH_STATIC_CRT`\n",
    "   * 에러 발생 시 다시 설정\n",
    "6. Generate\n",
    "7. Open Project (또는 3에서 지정한 폴더에서 'OpenCV.sln'을 실행)\n",
    "8. Debug와 Release 모드 각각 Win32(32 bit)로 빌드\n",
    "   * bin 폴더에 생성된 파일(.dll)과 lib 폴더에 생성된 파일(.lib) 확인\n",
    "   * 에러 발생 시 CMake 설정 다시 확인\n",
    "9. Solution Explorer > Solution 'OpenCV' > CMakeTargets > INSTALL 우클릭 > (Debug와 Release 모드 각각) Build\n",
    "   * dll 파일과 lib 파일을 직접 복사하여 사용해도 되지만, 이 과정을 거치면 'install' 폴더 밑에 OpenCV 기본 폴더 구조(the pre-built binaries ship의 구조와 유사)로 관련 파일(header files, binary files 등)을 모두 모아준다.\n",
    "   * 완료되면 복사하거나 path 설정하여 사용"
   ]
  }
 ],
 "metadata": {
  "kernelspec": {
   "display_name": "Python 3",
   "language": "python",
   "name": "python3"
  },
  "language_info": {
   "codemirror_mode": {
    "name": "ipython",
    "version": 3
   },
   "file_extension": ".py",
   "mimetype": "text/x-python",
   "name": "python",
   "nbconvert_exporter": "python",
   "pygments_lexer": "ipython3",
   "version": "3.6.6"
  }
 },
 "nbformat": 4,
 "nbformat_minor": 2
}
